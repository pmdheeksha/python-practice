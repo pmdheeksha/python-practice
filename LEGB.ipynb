{
 "cells": [
  {
   "cell_type": "markdown",
   "id": "83066fb4-bac4-44df-9ec8-0d0763df43a7",
   "metadata": {},
   "source": [
    "scope = access to variable[L->E->G->B]L->Local  E->Enclosing  G->Global  B->Bulidin"
   ]
  },
  {
   "cell_type": "code",
   "execution_count": 1,
   "id": "21c78d2b-6b3a-483e-af54-a505815eac89",
   "metadata": {},
   "outputs": [
    {
     "name": "stdout",
     "output_type": "stream",
     "text": [
      "Your Order curd rice\n"
     ]
    }
   ],
   "source": [
    "#L\n",
    "def order():\n",
    "    food = \"curd rice\"\n",
    "    print(\"Your Order\",food)\n",
    "order()"
   ]
  },
  {
   "cell_type": "code",
   "execution_count": 2,
   "id": "b54f27ce-17ad-458d-add6-8ddd135e4053",
   "metadata": {},
   "outputs": [
    {
     "name": "stdout",
     "output_type": "stream",
     "text": [
      "Applying Discount 10\n"
     ]
    }
   ],
   "source": [
    "#E\n",
    "def cart():\n",
    "    discount=10\n",
    "\n",
    "    def checkout():\n",
    "        print(\"Applying Discount\",discount)\n",
    "    checkout()\n",
    "cart()\n",
    "    "
   ]
  },
  {
   "cell_type": "code",
   "execution_count": 3,
   "id": "21f4f4ac-f114-4384-9514-fea63c4c9c17",
   "metadata": {},
   "outputs": [
    {
     "name": "stdout",
     "output_type": "stream",
     "text": [
      "Applying Discount 10\n"
     ]
    }
   ],
   "source": [
    "#E\n",
    "def cart():\n",
    "    discount=10\n",
    "\n",
    "    def checkout():\n",
    "        print(\"Applying Discount\",discount)\n",
    "    checkout()\n",
    "cart()\n",
    "    "
   ]
  },
  {
   "cell_type": "code",
   "execution_count": 5,
   "id": "3cefae8d-0801-4695-841f-5ffc032ff115",
   "metadata": {},
   "outputs": [
    {
     "name": "stdout",
     "output_type": "stream",
     "text": [
      "Welcome: Dheeksha\n",
      "Welcome to profile page: Dheeksha\n"
     ]
    }
   ],
   "source": [
    "#G\n",
    "user_id=\"Dheeksha\"\n",
    "\n",
    "def homepage():\n",
    "    print(\"Welcome:\",user_id)\n",
    "\n",
    "def profile():\n",
    "    print(\"Welcome to profile page:\",user_id)\n",
    "\n",
    "homepage()\n",
    "profile()"
   ]
  },
  {
   "cell_type": "code",
   "execution_count": 4,
   "id": "66d34f88-036c-40ff-9f9f-de1e5d048f3d",
   "metadata": {},
   "outputs": [
    {
     "name": "stdout",
     "output_type": "stream",
     "text": [
      "ordering 2 Pizza using Swiggy\n"
     ]
    }
   ],
   "source": [
    "delivery_partner = \"Swiggy\"\n",
    "\n",
    "def hotel():\n",
    "    item=\"Pizza\"\n",
    "\n",
    "    def order_name():\n",
    "        quantity=2\n",
    "        print(f\"ordering {quantity} {item} using {delivery_partner}\")\n",
    "\n",
    "    order_name()\n",
    "\n",
    "hotel()"
   ]
  },
  {
   "cell_type": "code",
   "execution_count": null,
   "id": "f6976676-feb9-4ee4-8ae1-5dfbbaa30c62",
   "metadata": {},
   "outputs": [],
   "source": []
  }
 ],
 "metadata": {
  "kernelspec": {
   "display_name": "Python [conda env:base] *",
   "language": "python",
   "name": "conda-base-py"
  },
  "language_info": {
   "codemirror_mode": {
    "name": "ipython",
    "version": 3
   },
   "file_extension": ".py",
   "mimetype": "text/x-python",
   "name": "python",
   "nbconvert_exporter": "python",
   "pygments_lexer": "ipython3",
   "version": "3.13.5"
  },
  "widgets": {
   "application/vnd.jupyter.widget-state+json": {
    "state": {},
    "version_major": 2,
    "version_minor": 0
   }
  }
 },
 "nbformat": 4,
 "nbformat_minor": 5
}
