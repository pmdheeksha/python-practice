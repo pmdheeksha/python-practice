{
 "cells": [
  {
   "cell_type": "markdown",
   "id": "e33624ab-d67a-44b6-9bf6-107d1517e952",
   "metadata": {},
   "source": [
    "Mode     Description\n",
    "'r'      Read-only(file must exist)\n",
    "'w'      writw-only(overwrites or create)\n",
    "'a'      Append-only(adds to end of file)\n",
    "'r+'     read+write(file must exist)\n",
    "'w+'     write+read(overwrites or creates)\n",
    "'a+'     Append+read(creates if not exists)\n",
    "'rb'     Read binary\n",
    "'Wb'     Write binary\n",
    "'ab'     Append binary"
   ]
  },
  {
   "cell_type": "code",
   "execution_count": 2,
   "id": "df45eacf-b8e4-4fc8-a93b-1b30bfc31a8d",
   "metadata": {},
   "outputs": [],
   "source": [
    "file = open(\"notes.txt\",\"w\")\n",
    "file.write(\"Welcome to python File Handling!\\n\")\n",
    "file.write(\"This is a new file.\\n\")\n",
    "file.close()"
   ]
  },
  {
   "cell_type": "code",
   "execution_count": 1,
   "id": "0e1bf499-8fe4-42db-95e1-f549fcaf4976",
   "metadata": {},
   "outputs": [
    {
     "name": "stdout",
     "output_type": "stream",
     "text": [
      "File Content:\n",
      " Welcome to python File Handling!\n",
      "This is a new file.\n",
      "\n"
     ]
    }
   ],
   "source": [
    "file = open(\"notes.txt\",\"r\")\n",
    "content = file.read()\n",
    "print(\"File Content:\\n\",content)\n",
    "file.close()"
   ]
  },
  {
   "cell_type": "markdown",
   "id": "68cb1366-fe93-47a0-8b5c-5d968e248315",
   "metadata": {},
   "source": [
    "with block- pythonic way of writing(after open do not want to close file)"
   ]
  },
  {
   "cell_type": "code",
   "execution_count": 2,
   "id": "7513ba04-0999-496a-b2c8-b2a9d8f7e7e4",
   "metadata": {},
   "outputs": [
    {
     "name": "stdout",
     "output_type": "stream",
     "text": [
      "Welcome to python File Handling!\n",
      "This is a new file.\n"
     ]
    }
   ],
   "source": [
    "with open(\"notes.txt\",\"r\")as file:\n",
    "    for line in file:\n",
    "        print(line.strip())\n",
    "        "
   ]
  },
  {
   "cell_type": "code",
   "execution_count": 6,
   "id": "7c01ab01-6d42-402d-b7c9-26b0132e23da",
   "metadata": {},
   "outputs": [
    {
     "name": "stdin",
     "output_type": "stream",
     "text": [
      "Enter your feedback: Good decoration\n"
     ]
    },
    {
     "name": "stdout",
     "output_type": "stream",
     "text": [
      "Thanks! Your feedback is saved.\n"
     ]
    }
   ],
   "source": [
    "feedback = input(\"Enter your feedback:\")\n",
    "with open(\"feedback_log.txt\",\"a\")as log:\n",
    "    log.write(feedback + \"\\n\")\n",
    "\n",
    "print(\"Thanks! Your feedback is saved.\")"
   ]
  },
  {
   "cell_type": "code",
   "execution_count": null,
   "id": "d84b796f-ccbd-42e5-aba4-282f2cddaad0",
   "metadata": {},
   "outputs": [],
   "source": []
  }
 ],
 "metadata": {
  "kernelspec": {
   "display_name": "Python (your-env-name)",
   "language": "python",
   "name": "your-env-name"
  },
  "language_info": {
   "codemirror_mode": {
    "name": "ipython",
    "version": 3
   },
   "file_extension": ".py",
   "mimetype": "text/x-python",
   "name": "python",
   "nbconvert_exporter": "python",
   "pygments_lexer": "ipython3",
   "version": "3.13.5"
  },
  "widgets": {
   "application/vnd.jupyter.widget-state+json": {
    "state": {},
    "version_major": 2,
    "version_minor": 0
   }
  }
 },
 "nbformat": 4,
 "nbformat_minor": 5
}
