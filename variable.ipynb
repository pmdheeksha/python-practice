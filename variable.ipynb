{
 "cells": [
  {
   "cell_type": "code",
   "execution_count": 1,
   "id": "8ea02076-70af-4d5e-a6ca-71133eeb48c6",
   "metadata": {},
   "outputs": [
    {
     "name": "stdin",
     "output_type": "stream",
     "text": [
      "Enter the Name Dheeksha\n",
      "Enter the Age 20\n"
     ]
    },
    {
     "name": "stdout",
     "output_type": "stream",
     "text": [
      "My Name is Dheeksha\n",
      "My Age is 20\n"
     ]
    }
   ],
   "source": [
    "# Get input for variable name and age\n",
    "name = input(\"Enter the Name\")\n",
    "age = int(input(\"Enter the Age\"))\n",
    "print(\"My Name is\", name)\n",
    "print(\"My Age is\", age)"
   ]
  },
  {
   "cell_type": "code",
   "execution_count": 5,
   "id": "8fc552b9-4bc0-4cb5-be0e-d122af150dc3",
   "metadata": {},
   "outputs": [
    {
     "name": "stdin",
     "output_type": "stream",
     "text": [
      "Enter the num 1 80\n",
      "Enter the num 2 70\n",
      "Enter the num 3 20\n"
     ]
    },
    {
     "name": "stdout",
     "output_type": "stream",
     "text": [
      "The multiply num is 112000\n",
      "The addition num is 170\n",
      "The division num is 658.8235294117648\n"
     ]
    }
   ],
   "source": [
    "num_1 = int(input(\"Enter the num 1\"))\n",
    "num_2 = int(input(\"Enter the num 2\"))\n",
    "num_3 = int(input(\"Enter the num 3\"))\n",
    "mul_num = (num_1*num_2*num_3)\n",
    "add_num = (num_1+num_2+num_3)\n",
    "div_num = (mul_num/add_num)\n",
    "print(\"The multiply num is\",mul_num)\n",
    "print(\"The addition num is\",add_num)\n",
    "print(\"The division num is\",div_num)\n"
   ]
  },
  {
   "cell_type": "code",
   "execution_count": 3,
   "id": "563d308b-58f7-4796-9bdb-25fcffaa000e",
   "metadata": {},
   "outputs": [
    {
     "name": "stdin",
     "output_type": "stream",
     "text": [
      "Enter the name Mugun\n",
      "Enter the score 99\n",
      "Enter the department ECE\n"
     ]
    },
    {
     "name": "stdout",
     "output_type": "stream",
     "text": [
      "My Name is Mugun\n",
      "My Score is 9.9 /10\n",
      "My Department is ECE\n"
     ]
    }
   ],
   "source": [
    "std_name = input(\"Enter the name\")\n",
    "std_score = int(input(\"Enter the score\"))\n",
    "std_department = input(\"Enter the department\")\n",
    "divide = (std_score/10)\n",
    "print(\"My Name is\",std_name)\n",
    "print(\"My Score is\",divide,\"/10\")\n",
    "print(\"My Department is\",std_department)\n"
   ]
  },
  {
   "cell_type": "code",
   "execution_count": 4,
   "id": "db805747-fb3b-4682-a232-1edf9effa386",
   "metadata": {},
   "outputs": [
    {
     "ename": "NameError",
     "evalue": "name 'true' is not defined",
     "output_type": "error",
     "traceback": [
      "\u001b[31m---------------------------------------------------------------------------\u001b[39m",
      "\u001b[31mNameError\u001b[39m                                 Traceback (most recent call last)",
      "\u001b[36mCell\u001b[39m\u001b[36m \u001b[39m\u001b[32mIn[4]\u001b[39m\u001b[32m, line 1\u001b[39m\n\u001b[32m----> \u001b[39m\u001b[32m1\u001b[39m a = \u001b[43mtrue\u001b[49m\n\u001b[32m      2\u001b[39m \u001b[38;5;28mprint\u001b[39m(a)\n",
      "\u001b[31mNameError\u001b[39m: name 'true' is not defined"
     ]
    }
   ],
   "source": [
    "a = true\n",
    "print(a)"
   ]
  },
  {
   "cell_type": "code",
   "execution_count": 6,
   "id": "8ab0683d-53f3-476a-9d91-aa477d555f4a",
   "metadata": {},
   "outputs": [
    {
     "name": "stdout",
     "output_type": "stream",
     "text": [
      "415\n"
     ]
    }
   ],
   "source": [
    "#inside the the quotes the values are taken as str so it is called as conactentaion\n",
    "x = \"4\"\n",
    "y = \"15\"\n",
    "print(x+y)"
   ]
  },
  {
   "cell_type": "code",
   "execution_count": 7,
   "id": "59371b63-aae5-4b3c-8038-fa2a493287ee",
   "metadata": {},
   "outputs": [
    {
     "name": "stdout",
     "output_type": "stream",
     "text": [
      "99.15 <class 'float'>\n"
     ]
    }
   ],
   "source": [
    "price = 99.15\n",
    "print(price,type(price))"
   ]
  },
  {
   "cell_type": "code",
   "execution_count": 8,
   "id": "43f91f90-c36f-4f5a-b9d4-5a8197880c7d",
   "metadata": {},
   "outputs": [
    {
     "name": "stdout",
     "output_type": "stream",
     "text": [
      "Dheeksha <class 'str'>\n"
     ]
    }
   ],
   "source": [
    "name = \"Dheeksha\"\n",
    "print(name,type(name))"
   ]
  },
  {
   "cell_type": "code",
   "execution_count": 9,
   "id": "5499c1f1-e934-409c-bb0e-d76e2ddd795e",
   "metadata": {},
   "outputs": [
    {
     "name": "stdout",
     "output_type": "stream",
     "text": [
      "<class 'str'>\n",
      "<class 'str'>\n"
     ]
    }
   ],
   "source": [
    "x = \"12\"\n",
    "y = \"1\"\n",
    "print(type(x))\n",
    "print(type(y))"
   ]
  },
  {
   "cell_type": "code",
   "execution_count": 10,
   "id": "77182967-dab9-493a-b4a5-170f36066a35",
   "metadata": {},
   "outputs": [
    {
     "name": "stdout",
     "output_type": "stream",
     "text": [
      "<class 'str'>\n",
      "12\n",
      "<class 'str'>\n",
      "1\n",
      "13\n"
     ]
    }
   ],
   "source": [
    "x = \"12\"\n",
    "y = \"1\"\n",
    "print(type(x))\n",
    "print(int(x))\n",
    "print(type(y))\n",
    "print(int(y))\n",
    "print(int(x)+int(y))"
   ]
  },
  {
   "cell_type": "code",
   "execution_count": 11,
   "id": "8dbd6825-788e-4b06-8a02-31699042081a",
   "metadata": {},
   "outputs": [
    {
     "name": "stdout",
     "output_type": "stream",
     "text": [
      "<class 'str'>\n",
      "10.5\n",
      "<class 'float'>\n"
     ]
    }
   ],
   "source": [
    "x = \"10.5\"\n",
    "print(type(x))\n",
    "print(float(x))\n",
    "print(type(float(x)))"
   ]
  },
  {
   "cell_type": "code",
   "execution_count": 13,
   "id": "07251cbe-8fe9-489f-9ea8-d599f37e046c",
   "metadata": {},
   "outputs": [
    {
     "name": "stdout",
     "output_type": "stream",
     "text": [
      "23\n",
      "17\n",
      "60\n",
      "6.666666666666667\n",
      "2\n",
      "8000\n",
      "6\n"
     ]
    }
   ],
   "source": [
    "a = 20\n",
    "b = 3\n",
    "\n",
    "print(a+b)\n",
    "print(a-b)\n",
    "print(a*b)\n",
    "print(a/b)\n",
    "print(a%b)\n",
    "print(a**b)\n",
    "print(a//b)\n",
    "\n",
    "\n",
    "\n",
    "# Arithmatic operator"
   ]
  },
  {
   "cell_type": "code",
   "execution_count": 6,
   "id": "8525c457-1e02-467a-ab49-5f054f240179",
   "metadata": {},
   "outputs": [
    {
     "name": "stdout",
     "output_type": "stream",
     "text": [
      "False\n",
      "True\n",
      "True\n",
      "False\n",
      "True\n",
      "False\n"
     ]
    }
   ],
   "source": [
    "a = 40\n",
    "b = 30\n",
    "\n",
    "print(a==b)\n",
    "print(a!=b)\n",
    "print(a>b)\n",
    "print(a<b)\n",
    "print(a>=b)\n",
    "print(a<=b)\n",
    "\n",
    "#camparison operator\n",
    "\n"
   ]
  },
  {
   "cell_type": "code",
   "execution_count": 14,
   "id": "42814f25-6cdf-45dd-b0f1-cc4e0604f961",
   "metadata": {},
   "outputs": [
    {
     "name": "stdout",
     "output_type": "stream",
     "text": [
      "8\n"
     ]
    }
   ],
   "source": [
    "a = 4\n",
    "a+=a\n",
    "\n",
    "print(a)"
   ]
  },
  {
   "cell_type": "code",
   "execution_count": 15,
   "id": "9f2886be-4616-43f4-978b-e1913cff3d32",
   "metadata": {},
   "outputs": [
    {
     "name": "stdout",
     "output_type": "stream",
     "text": [
      "False\n",
      "True\n",
      "False\n"
     ]
    }
   ],
   "source": [
    "x = True\n",
    "y = False\n",
    "print(x and y)\n",
    "print(x or y)\n",
    "print(not x)"
   ]
  },
  {
   "cell_type": "code",
   "execution_count": 7,
   "id": "fd9f17f4-060e-4375-876f-77565dcbba8c",
   "metadata": {},
   "outputs": [
    {
     "name": "stdout",
     "output_type": "stream",
     "text": [
      "216.0\n",
      "1416.0\n",
      "141.6\n",
      "1274.4\n"
     ]
    }
   ],
   "source": [
    "amount = 1200\n",
    "tax = amount*0.18\n",
    "total = amount + tax\n",
    "print(tax)\n",
    "print(total)\n",
    "if total>1000:\n",
    "    discount = total*0.10\n",
    "    print(discount)\n",
    "    total-=discount\n",
    "print(total)"
   ]
  },
  {
   "cell_type": "markdown",
   "id": "e4915f08-142d-4263-8f11-939feff225e6",
   "metadata": {},
   "source": [
    "string"
   ]
  },
  {
   "cell_type": "code",
   "execution_count": 17,
   "id": "3522d103-0d84-4e10-ab32-7bb09be1c7fd",
   "metadata": {},
   "outputs": [
    {
     "name": "stdout",
     "output_type": "stream",
     "text": [
      "hardik pandya\n",
      "HARDIK PANDYA\n",
      "Hardik pandya\n"
     ]
    }
   ],
   "source": [
    "cricketer = \"Hardik Pandya\"\n",
    "print(cricketer.lower())\n",
    "print(cricketer.upper())\n",
    "print(cricketer.capitalize())#only first letter can become capital"
   ]
  },
  {
   "cell_type": "code",
   "execution_count": 18,
   "id": "9884a1d3-156f-4d97-80c4-26237538db47",
   "metadata": {},
   "outputs": [
    {
     "name": "stdout",
     "output_type": "stream",
     "text": [
      "76543223\n",
      "98\n",
      "23\n"
     ]
    }
   ],
   "source": [
    "mobile_no = \"9876543223\"\n",
    "masked = mobile_no[2:]\n",
    "masked1 = mobile_no[:2]\n",
    "masked2 = mobile_no[-2:]\n",
    "\n",
    "print(masked)\n",
    "print(masked1)\n",
    "print(masked2)"
   ]
  },
  {
   "cell_type": "code",
   "execution_count": 19,
   "id": "1fdfd301-abe1-4356-8572-e0a35708ccc0",
   "metadata": {},
   "outputs": [
    {
     "name": "stdout",
     "output_type": "stream",
     "text": [
      "98******23\n"
     ]
    }
   ],
   "source": [
    "mobile_no = \"9876543223\"\n",
    "masked = mobile_no[:2]+\"******\"+mobile_no[-2:]\n",
    "print(masked)\n"
   ]
  },
  {
   "cell_type": "code",
   "execution_count": 20,
   "id": "0ea2cece-11c7-420b-9c24-065e1801663e",
   "metadata": {},
   "outputs": [
    {
     "name": "stdout",
     "output_type": "stream",
     "text": [
      "Milky Really You Are The Pure Soul To Me and Panda Your The Naughty Pubby\n"
     ]
    }
   ],
   "source": [
    "pet_home = \"MilKY reaLly YoU are The puRe SouL TO mE\"\n",
    "pet_home1 = \"PandA yOur The NaughtY PubbY\"\n",
    "formatted = f\"{pet_home.title()} and {pet_home1.title()}\"\n",
    "print(formatted)"
   ]
  },
  {
   "cell_type": "code",
   "execution_count": 22,
   "id": "5e5cfaeb-8038-492f-8db8-a9cf5f931b52",
   "metadata": {},
   "outputs": [
    {
     "name": "stdout",
     "output_type": "stream",
     "text": [
      "Delhi\n"
     ]
    }
   ],
   "source": [
    "location = \"Jammu and Kashmir\"\n",
    "fixed_location=location.replace( \"Jammu and Kashmir\",\"Delhi\")\n",
    "print(fixed_location)"
   ]
  },
  {
   "cell_type": "code",
   "execution_count": 23,
   "id": "38747f97-f36c-4332-8c24-57d1a3d51388",
   "metadata": {},
   "outputs": [
    {
     "name": "stdout",
     "output_type": "stream",
     "text": [
      "your uber booking id is:UB123456\n",
      "UB123456.Please keep it safe\n",
      " is:UB123456.Please keep it safe\n",
      "UB123456\n"
     ]
    }
   ],
   "source": [
    "message=\"your uber booking id is:UB123456.Please keep it safe\"\n",
    "booking_id=message.split(\".\")[0]\n",
    "booking_id1=message.split(\":\")[1]\n",
    "booking_id2=message.split(\"id\")[1]\n",
    "booking_id3=message.split(\":\")[1].split(\".\")[0]\n",
    "print(booking_id)\n",
    "print(booking_id1)\n",
    "print(booking_id2)\n",
    "print(booking_id3)"
   ]
  },
  {
   "cell_type": "code",
   "execution_count": 10,
   "id": "f8066fb7-df54-4cd3-94da-27abe5c6ab1f",
   "metadata": {},
   "outputs": [
    {
     "name": "stdout",
     "output_type": "stream",
     "text": [
      "My Name is Dheeksha and My age is 20.\n",
      "My Name is Dheeksha and My age is 20.\n"
     ]
    }
   ],
   "source": [
    "#format\n",
    "name = \"Dheeksha\"\n",
    "age = 20\n",
    "print(\"My Name is {} and My age is {}.\".format(name,age))\n",
    "print(\"My Name is {0} and My age is {1}.\".format(name,age))"
   ]
  },
  {
   "cell_type": "code",
   "execution_count": 25,
   "id": "cf84fbf0-24d1-430b-84a9-8531499731a3",
   "metadata": {},
   "outputs": [
    {
     "name": "stdout",
     "output_type": "stream",
     "text": [
      "Offer applied\n"
     ]
    }
   ],
   "source": [
    "# String Search (in)\n",
    "promo_msg = \"use zomato100 to get 100 off on your first order\"\n",
    "if \"zomato100\" in promo_msg:\n",
    "    print(\"Offer applied\")"
   ]
  },
  {
   "cell_type": "code",
   "execution_count": 2,
   "id": "0aa6fe7b-9ab5-494f-a41f-f035faedc63e",
   "metadata": {},
   "outputs": [
    {
     "name": "stdout",
     "output_type": "stream",
     "text": [
      "32\n"
     ]
    }
   ],
   "source": [
    "a=2**5\n",
    "print(a)"
   ]
  },
  {
   "cell_type": "code",
   "execution_count": 1,
   "id": "17bba81c-7590-45da-a69a-7d6341bff6ad",
   "metadata": {},
   "outputs": [
    {
     "name": "stdin",
     "output_type": "stream",
     "text": [
      "Father name :  Markandan.K\n",
      "Mother name :  Vijayalakshmi.M\n",
      "Her name :  Dheeksha.PM\n",
      "Brother name1 :  Mugundhan.PM\n",
      "Brother name2 :  VidhyaSagar.M\n"
     ]
    },
    {
     "name": "stdout",
     "output_type": "stream",
     "text": [
      "My Father Name is Markandan.K/n My Mother Name is Vijayalakshmi.M/nMy Name is Dheeksha.PM/n My first Younger brother name is Mugundhan.PM/n My second Younger brother name is VidhyaSagar.M\n"
     ]
    }
   ],
   "source": [
    "dad = input(\"Father name : \")\n",
    "mom = input(\"Mother name : \")\n",
    "me = input(\"Her name : \")\n",
    "bro1 = input(\"Brother name1 : \")\n",
    "bro2 = input(\"Brother name2 : \")\n",
    "print(f\"My Father Name is {dad}/n My Mother Name is {mom}/nMy Name is {me}/n My first Younger brother name is {bro1}/n My second Younger brother name is {bro2}\")"
   ]
  },
  {
   "cell_type": "code",
   "execution_count": null,
   "id": "256dfe40-8c9e-4127-a3c2-da88b8adb144",
   "metadata": {},
   "outputs": [],
   "source": []
  }
 ],
 "metadata": {
  "kernelspec": {
   "display_name": "Python [conda env:base] *",
   "language": "python",
   "name": "conda-base-py"
  },
  "language_info": {
   "codemirror_mode": {
    "name": "ipython",
    "version": 3
   },
   "file_extension": ".py",
   "mimetype": "text/x-python",
   "name": "python",
   "nbconvert_exporter": "python",
   "pygments_lexer": "ipython3",
   "version": "3.13.5"
  },
  "widgets": {
   "application/vnd.jupyter.widget-state+json": {
    "state": {},
    "version_major": 2,
    "version_minor": 0
   }
  }
 },
 "nbformat": 4,
 "nbformat_minor": 5
}
