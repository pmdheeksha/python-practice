{
 "cells": [
  {
   "cell_type": "code",
   "execution_count": 2,
   "id": "bdaf77cf-2515-4b01-82b7-8e7696c5d7c9",
   "metadata": {},
   "outputs": [
    {
     "ename": "SyntaxError",
     "evalue": "cannot assign to function call here. Maybe you meant '==' instead of '='? (2399098011.py, line 2)",
     "output_type": "error",
     "traceback": [
      "\u001b[1;36m  Cell \u001b[1;32mIn[2], line 2\u001b[1;36m\u001b[0m\n\u001b[1;33m    a(0)=1\u001b[0m\n\u001b[1;37m    ^\u001b[0m\n\u001b[1;31mSyntaxError\u001b[0m\u001b[1;31m:\u001b[0m cannot assign to function call here. Maybe you meant '==' instead of '='?\n"
     ]
    }
   ],
   "source": [
    "a = (1,2,3,4)\n",
    "a(0)=1\n",
    "print(a)"
   ]
  },
  {
   "cell_type": "code",
   "execution_count": 2,
   "id": "b0f4fd4e-0ba5-4452-819a-3bf1f5278377",
   "metadata": {},
   "outputs": [
    {
     "name": "stdout",
     "output_type": "stream",
     "text": [
      "[1, 2, 3, 4]\n",
      "[1, 2, 4]\n"
     ]
    }
   ],
   "source": [
    "a = (1,2,3,4 )\n",
    "b = list(a)#casting tuple is converted into list\n",
    "print(b)\n",
    "b.pop(2)\n",
    "print(b)"
   ]
  },
  {
   "cell_type": "code",
   "execution_count": 3,
   "id": "a10e6f4e-9647-49f1-b6bb-c6101a33406d",
   "metadata": {},
   "outputs": [
    {
     "name": "stdout",
     "output_type": "stream",
     "text": [
      "3\n"
     ]
    }
   ],
   "source": [
    "a = (1,1,3,4,3,4,5,6,7,7,5,4)\n",
    "print(a.count(4))"
   ]
  },
  {
   "cell_type": "code",
   "execution_count": 4,
   "id": "f51c4ef9-0aaa-4bdf-a998-4caa44aba910",
   "metadata": {},
   "outputs": [
    {
     "name": "stdout",
     "output_type": "stream",
     "text": [
      "('ubergo', 'chennai', 'airport', 453098, 'completed')\n"
     ]
    }
   ],
   "source": [
    "trip_summary = (\"ubergo\",\"chennai\",\"airport\",453098,\"completed\")\n",
    "print(trip_summary)"
   ]
  },
  {
   "cell_type": "code",
   "execution_count": 5,
   "id": "700f45a8-5092-4023-9b10-e7b3d30bfe0c",
   "metadata": {},
   "outputs": [
    {
     "name": "stdout",
     "output_type": "stream",
     "text": [
      "airport\n"
     ]
    }
   ],
   "source": [
    "trip_summary = (\"ubergo\",\"chennai\",\"airport\",453098,\"completed\")\n",
    "print(trip_summary[2])\n"
   ]
  },
  {
   "cell_type": "code",
   "execution_count": 6,
   "id": "eccb67b0-390c-45d4-b8ee-bafca3c48039",
   "metadata": {},
   "outputs": [
    {
     "name": "stdout",
     "output_type": "stream",
     "text": [
      "ubergo\n",
      "chennai\n",
      "airport\n",
      "453098\n",
      "completed\n"
     ]
    }
   ],
   "source": [
    "trip_summary = (\"ubergo\",\"chennai\",\"airport\",453098,\"completed\")\n",
    "for item in trip_summary:\n",
    "    print(item)"
   ]
  },
  {
   "cell_type": "code",
   "execution_count": 7,
   "id": "2d40d671-a744-419b-93ed-59d137c4b36f",
   "metadata": {},
   "outputs": [
    {
     "name": "stdout",
     "output_type": "stream",
     "text": [
      "1\n",
      "2\n"
     ]
    }
   ],
   "source": [
    "trip_summary = (\"ubergo\",\"chennai\",\"airport\",453098,\"completed\")\n",
    "print(trip_summary.count(\"chennai\"))\n",
    "print(trip_summary.index(\"airport\"))"
   ]
  },
  {
   "cell_type": "code",
   "execution_count": null,
   "id": "04c79ef8-675a-4ed9-ad6e-bc05dd7e857c",
   "metadata": {},
   "outputs": [],
   "source": []
  }
 ],
 "metadata": {
  "kernelspec": {
   "display_name": "Python [conda env:base] *",
   "language": "python",
   "name": "conda-base-py"
  },
  "language_info": {
   "codemirror_mode": {
    "name": "ipython",
    "version": 3
   },
   "file_extension": ".py",
   "mimetype": "text/x-python",
   "name": "python",
   "nbconvert_exporter": "python",
   "pygments_lexer": "ipython3",
   "version": "3.13.5"
  },
  "widgets": {
   "application/vnd.jupyter.widget-state+json": {
    "state": {},
    "version_major": 2,
    "version_minor": 0
   }
  }
 },
 "nbformat": 4,
 "nbformat_minor": 5
}
