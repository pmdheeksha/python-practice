{
 "cells": [
  {
   "cell_type": "code",
   "execution_count": 1,
   "id": "6f2ad05b-4dc1-40f0-bd91-2d74ef12a346",
   "metadata": {},
   "outputs": [
    {
     "name": "stdout",
     "output_type": "stream",
     "text": [
      "Let's party\n",
      "Enjoying the beach\n"
     ]
    }
   ],
   "source": [
    "class goa:\n",
    "    def party(self):\n",
    "        print(\"Let's party\")\n",
    "    def beach(self):\n",
    "        print(\"Enjoying the beach\")\n",
    "\n",
    "ramesh = goa()\n",
    "suresh = goa()\n",
    "\n",
    "ramesh.party()\n",
    "suresh.beach()"
   ]
  },
  {
   "cell_type": "code",
   "execution_count": 2,
   "id": "84a2848f-99b6-4f76-acc4-79d2cafc07d8",
   "metadata": {},
   "outputs": [
    {
     "name": "stdout",
     "output_type": "stream",
     "text": [
      "Name: Ramesh\n",
      "Drink: Yes\n",
      "_____Let's party_____\n",
      "Name: Suresh\n",
      "Drink: No\n",
      "______Enjoy the beach_____\n"
     ]
    }
   ],
   "source": [
    "class goa:\n",
    "    name = \"\"\n",
    "    drink = \"\"\n",
    "    def party(self):\n",
    "        print(\"_____Let's party_____\")\n",
    "    def beach(self):\n",
    "        print(\"______Enjoy the beach_____\")\n",
    "\n",
    "person_1 = goa()\n",
    "person_2= goa()\n",
    "\n",
    "person_1.name = \"Ramesh\"\n",
    "person_2.name = \"Suresh\"\n",
    "\n",
    "person_1.drink = \"Yes\"\n",
    "person_2.drink = \"No\"\n",
    "\n",
    "print(\"Name:\",person_1.name)\n",
    "print(\"Drink:\",person_1.drink)\n",
    "person_1.party()\n",
    "print(\"Name:\",person_2.name)\n",
    "print(\"Drink:\",person_2.drink)\n",
    "person_2.beach()"
   ]
  },
  {
   "cell_type": "code",
   "execution_count": 5,
   "id": "df4c4296-9f6e-44f6-9dc4-d41e0edd813a",
   "metadata": {},
   "outputs": [
    {
     "name": "stdout",
     "output_type": "stream",
     "text": [
      "60000\n",
      "16GB\n"
     ]
    }
   ],
   "source": [
    "class laptop():\n",
    "    price = \"\"\n",
    "    processor = \"\"\n",
    "    ram = \"\"\n",
    "    \n",
    "hp = laptop()\n",
    "dell = laptop()\n",
    "lenova = laptop()\n",
    "\n",
    "hp.price = 50000\n",
    "hp.processor = \"i5\"\n",
    "hp.ram = \"8GB\"\n",
    "\n",
    "dell.price = 60000\n",
    "dell.processor = \"i6\"\n",
    "dell.ram = \"8GB\"\n",
    "\n",
    "lenova.price = 70000\n",
    "lenova.processor = \"i7\"\n",
    "lenova.ram = \"16GB\"\n",
    "\n",
    "\n",
    "\n",
    "print(dell.price)\n",
    "print(lenova.ram)\n"
   ]
  },
  {
   "cell_type": "code",
   "execution_count": 6,
   "id": "eb24a05e-739f-4cfa-aa5b-b1607ec3da9a",
   "metadata": {},
   "outputs": [
    {
     "name": "stdout",
     "output_type": "stream",
     "text": [
      "Vidhya Sagar\n",
      "32456\n",
      "Name: Vidhya Sagar\n",
      "Reg.No.: 32456\n"
     ]
    }
   ],
   "source": [
    "class student:\n",
    "    def __init__ (self):\n",
    "        self.name = \"Vidhya Sagar\"\n",
    "        self.regno = \"32456\"\n",
    "    def display(self):\n",
    "        print(\"Name:\" ,self.name)\n",
    "        print(\"Reg.No.:\" ,self.regno)\n",
    "\n",
    "s1 = student()\n",
    "print(s1.name)\n",
    "print(s1.regno)\n",
    "s1.display()\n",
    "        "
   ]
  },
  {
   "cell_type": "code",
   "execution_count": 7,
   "id": "d4413dbf-e544-4714-b170-e7f4993dd43d",
   "metadata": {},
   "outputs": [
    {
     "name": "stdout",
     "output_type": "stream",
     "text": [
      "The pineapple is  yellow\n"
     ]
    }
   ],
   "source": [
    "class fruit:\n",
    "    def __init__ (self,col):\n",
    "        self.color = col\n",
    "pineapple = fruit(\"yellow\")\n",
    "print(\"The pineapple is \",pineapple.color)"
   ]
  },
  {
   "cell_type": "code",
   "execution_count": 8,
   "id": "92c277a5-f97e-44b7-a65c-e2fb22d1ec6b",
   "metadata": {},
   "outputs": [
    {
     "name": "stdout",
     "output_type": "stream",
     "text": [
      "Name: vidhya\n",
      "Regno: 3426\n",
      "Name: Mugan\n",
      "Regno: 2345\n"
     ]
    }
   ],
   "source": [
    "class teacher():\n",
    "    def __init__ (self,name,regno):\n",
    "        self.name = name\n",
    "        self.regno = regno\n",
    "    def display(self):\n",
    "        print(\"Name:\", self.name)\n",
    "        print(\"Regno:\", self.regno)\n",
    "\n",
    "t1 = teacher(\"vidhya\",\"3426\")\n",
    "t2 = teacher(\"Mugan\",\"2345\")\n",
    "\n",
    "t1.display()\n",
    "t2.display()"
   ]
  },
  {
   "cell_type": "code",
   "execution_count": 9,
   "id": "51caf64d-2d1d-41bb-a97c-4a902b748600",
   "metadata": {},
   "outputs": [
    {
     "name": "stdout",
     "output_type": "stream",
     "text": [
      "Add 25\n"
     ]
    }
   ],
   "source": [
    "class calculator():\n",
    "    def __init__ (self,a,b):\n",
    "        self.num1 = a\n",
    "        self.num2 = b\n",
    "    def add(self):\n",
    "        print(\"Add\",self.num1+self.num2)\n",
    "\n",
    "obj1 = calculator(10,15)\n",
    "obj1.add()"
   ]
  },
  {
   "cell_type": "code",
   "execution_count": 11,
   "id": "9b9ae686-8187-44bd-970b-6486c63af114",
   "metadata": {},
   "outputs": [
    {
     "name": "stdout",
     "output_type": "stream",
     "text": [
      "Add 19\n"
     ]
    }
   ],
   "source": [
    "class calculator():\n",
    "    \n",
    "    def add(self,a,b):\n",
    "        print(\"Add\",a+b)\n",
    "obj1 = calculator()\n",
    "obj1.add(15,4)"
   ]
  },
  {
   "cell_type": "code",
   "execution_count": 10,
   "id": "b4782d43-ca5d-486d-b214-70ca7998d113",
   "metadata": {},
   "outputs": [
    {
     "name": "stdout",
     "output_type": "stream",
     "text": [
      "Brand: SAMSUNG\n",
      "Price: 20000\n",
      "Chargertype: C-Type\n",
      "Brand: REDMI\n",
      "Price: 15000\n",
      "Chargertype: C-Type\n"
     ]
    }
   ],
   "source": [
    "# Instance variable   using self is instance variable\n",
    "class phone():\n",
    "    def __init__(self,brand,price,chargertype):\n",
    "        self.brand = brand\n",
    "        self.price = price\n",
    "        self.chargertype = chargertype\n",
    "    def display(self):\n",
    "        print(\"Brand:\" ,self.brand)\n",
    "        print(\"Price:\" ,self.price)\n",
    "        print(\"Chargertype:\" ,self.chargertype)\n",
    "\n",
    "samsung = phone(\"SAMSUNG\",\"20000\",\"C-Type\")\n",
    "samsung.display()\n",
    "redmi = phone(\"REDMI\",\"15000\",\"C-Type\")\n",
    "redmi.display()"
   ]
  },
  {
   "cell_type": "code",
   "execution_count": 17,
   "id": "d68e5b6d-a634-4165-ad91-e6237766fe93",
   "metadata": {},
   "outputs": [
    {
     "name": "stdout",
     "output_type": "stream",
     "text": [
      "Brand: SAMSUNG\n",
      "Price: 20000\n",
      "Chargertype: C-TYPE\n",
      "Brand: REDMI\n",
      "Price: 15000\n",
      "Chargertype: C-TYPE\n",
      "Brand: VIVO\n",
      "Price: 16000\n",
      "Chargertype: C-TYPE\n"
     ]
    }
   ],
   "source": [
    "#class varible (if it is common to all object it is class variable)\n",
    "class phone():\n",
    "    ChargerType = \"C-TYPE\" \n",
    "    def __init__(self,brand,price):\n",
    "        self.brand = brand\n",
    "        self.price = price\n",
    "       \n",
    "    def display(self):\n",
    "        print(\"Brand:\" ,self.brand)\n",
    "        print(\"Price:\" ,self.price)\n",
    "        print(\"Chargertype:\" ,self.ChargerType)\n",
    "\n",
    "samsung = phone(\"SAMSUNG\",\"20000\")\n",
    "samsung.display()\n",
    "redmi = phone(\"REDMI\",\"15000\")\n",
    "redmi.display()\n",
    "vivo = phone(\"VIVO\",\"16000\")\n",
    "vivo.display()"
   ]
  },
  {
   "cell_type": "code",
   "execution_count": 13,
   "id": "86b45881-ff9e-475a-a38b-ffa863e1ba96",
   "metadata": {},
   "outputs": [
    {
     "name": "stdout",
     "output_type": "stream",
     "text": [
      "Brand: SAMSUNG\n",
      "Price: 20000\n",
      "Chargertype: B-TYPE\n",
      "Brand: REDMI\n",
      "Price: 15000\n",
      "Chargertype: B-TYPE\n",
      "Brand: VIVO\n",
      "Price: 16000\n",
      "Chargertype: B-TYPE\n"
     ]
    }
   ],
   "source": [
    "class phone():\n",
    "    ChargerType = \"C-TYPE\" \n",
    "    def __init__(self,brand,price):\n",
    "        self.brand = brand\n",
    "        self.price = price\n",
    "       \n",
    "    def display(self):\n",
    "        print(\"Brand:\" ,self.brand)\n",
    "        print(\"Price:\" ,self.price)\n",
    "        print(\"Chargertype:\" ,self.ChargerType)\n",
    "phone.ChargerType = \"B-TYPE\"\n",
    "\n",
    "samsung = phone(\"SAMSUNG\",\"20000\")\n",
    "samsung.display()\n",
    "redmi = phone(\"REDMI\",\"15000\")\n",
    "redmi.display()\n",
    "vivo = phone(\"VIVO\",\"16000\")\n",
    "vivo.display()"
   ]
  },
  {
   "cell_type": "code",
   "execution_count": 16,
   "id": "3035a7ca-f614-4a50-9062-9960dc6d2a6b",
   "metadata": {},
   "outputs": [
    {
     "name": "stdout",
     "output_type": "stream",
     "text": [
      "HI,I am a student\n"
     ]
    }
   ],
   "source": [
    "class Student:\n",
    "    def say_hello(self):\n",
    "        print(\"HI,I am a student\")\n",
    "\n",
    "s1 = Student()\n",
    "s1.say_hello()"
   ]
  },
  {
   "cell_type": "code",
   "execution_count": 18,
   "id": "6dca80f5-4f53-4ebd-8d05-a7c1b065bc0f",
   "metadata": {},
   "outputs": [
    {
     "name": "stdout",
     "output_type": "stream",
     "text": [
      "Name:Dheeksha , Age:20\n"
     ]
    }
   ],
   "source": [
    "class Student:\n",
    "    def __init__(self,fname,age):\n",
    "        self.x = fname\n",
    "        self.y = age\n",
    "    def display(self):\n",
    "        print(f\"Name:{self.x} , Age:{self.y}\")\n",
    "\n",
    "s1 = Student(\"Dheeksha\",20)\n",
    "s1.display()"
   ]
  },
  {
   "cell_type": "code",
   "execution_count": 22,
   "id": "7cd4f3ff-17b5-442d-9900-a06b63bd0d4c",
   "metadata": {},
   "outputs": [
    {
     "name": "stdout",
     "output_type": "stream",
     "text": [
      "Vidhi enter using aadhar 1234-5678-9899\n",
      "Bank account opened for Vidhi with aadhar 1234-5678-9899\n"
     ]
    }
   ],
   "source": [
    "class Employee:\n",
    "    def __init__(self, name, aadhar):\n",
    "        self.name = name\n",
    "        self.aadhar = aadhar\n",
    "    def enter_office(self):\n",
    "        print(f\"{self.name} enter using aadhar {self.aadhar}\")\n",
    "\n",
    "    def open_bank_account(self):\n",
    "        print(f\"Bank account opened for {self.name} with aadhar {self.aadhar}\")\n",
    "\n",
    "emp1 = Employee(\"Vidhi\",\"1234-5678-9899\")\n",
    "emp1.enter_office()\n",
    "emp1.open_bank_account()"
   ]
  },
  {
   "cell_type": "code",
   "execution_count": 20,
   "id": "9226ae0f-61d6-4fd0-846e-154e6990cdd1",
   "metadata": {},
   "outputs": [
    {
     "name": "stdout",
     "output_type": "stream",
     "text": [
      "256\n",
      "64\n"
     ]
    }
   ],
   "source": [
    "class MathTool:\n",
    "    def square(self,n):\n",
    "        return n*n\n",
    "    def cube(self,n):\n",
    "        return n*n*n\n",
    "\n",
    "tool = MathTool()\n",
    "print(tool.square(16))\n",
    "\n",
    "print(tool.cube(4))"
   ]
  },
  {
   "cell_type": "code",
   "execution_count": null,
   "id": "5f972c6a-1993-45cb-a9a2-5d423cfb1969",
   "metadata": {},
   "outputs": [],
   "source": []
  }
 ],
 "metadata": {
  "kernelspec": {
   "display_name": "Python (your-env-name)",
   "language": "python",
   "name": "your-env-name"
  },
  "language_info": {
   "codemirror_mode": {
    "name": "ipython",
    "version": 3
   },
   "file_extension": ".py",
   "mimetype": "text/x-python",
   "name": "python",
   "nbconvert_exporter": "python",
   "pygments_lexer": "ipython3",
   "version": "3.13.5"
  },
  "widgets": {
   "application/vnd.jupyter.widget-state+json": {
    "state": {},
    "version_major": 2,
    "version_minor": 0
   }
  }
 },
 "nbformat": 4,
 "nbformat_minor": 5
}
