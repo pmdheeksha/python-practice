{
 "cells": [
  {
   "cell_type": "code",
   "execution_count": 1,
   "id": "002efbba-eb97-4486-ad25-2fa9b2bf3ed8",
   "metadata": {},
   "outputs": [
    {
     "name": "stdout",
     "output_type": "stream",
     "text": [
      "Called instance method\n",
      "Called class method\n",
      "Called static method\n"
     ]
    }
   ],
   "source": [
    "class MyClass:\n",
    "    def instance_method(self):#instance\n",
    "        print(\"Called instance method\")\n",
    "\n",
    "    @classmethod#class level method it does not depend on object\n",
    "    def class_method(cls):#argument cls\n",
    "        print(\"Called class method\")\n",
    "\n",
    "    @staticmethod# static is does not on depend on both it is independent\n",
    "    def static_method():\n",
    "        print(\"Called static method\")\n",
    "\n",
    "obj = MyClass()\n",
    "obj.instance_method()\n",
    "MyClass.class_method()\n",
    "MyClass.static_method()\n"
   ]
  },
  {
   "cell_type": "markdown",
   "id": "9a1c6c78-1d55-4090-b2b7-a8bc0240eaa9",
   "metadata": {},
   "source": [
    "class method"
   ]
  },
  {
   "cell_type": "code",
   "execution_count": 2,
   "id": "6ea68f7c-f92d-4ca5-b7fe-d988a8fbb247",
   "metadata": {},
   "outputs": [
    {
     "name": "stdout",
     "output_type": "stream",
     "text": [
      "Google\n"
     ]
    }
   ],
   "source": [
    "class Employee:\n",
    "    company_name = \"OpenAI\"\n",
    "    @classmethod\n",
    "    def change_company(cls,new_class):\n",
    "        cls.company_name = new_class\n",
    "\n",
    "Employee.change_company(\"Google\")\n",
    "print(Employee.company_name)"
   ]
  },
  {
   "cell_type": "code",
   "execution_count": 3,
   "id": "552cc64c-8afd-4f67-89ba-ca9bc81d9594",
   "metadata": {},
   "outputs": [
    {
     "name": "stdout",
     "output_type": "stream",
     "text": [
      "19\n"
     ]
    }
   ],
   "source": [
    "class Math:\n",
    "    @staticmethod\n",
    "    def add(x,y):\n",
    "        return x+y\n",
    "\n",
    "print(Math.add(15,4))"
   ]
  },
  {
   "cell_type": "code",
   "execution_count": null,
   "id": "a7e136ca-562d-4ca5-b2d3-bfdf21dfe950",
   "metadata": {},
   "outputs": [],
   "source": []
  }
 ],
 "metadata": {
  "kernelspec": {
   "display_name": "Python (your-env-name)",
   "language": "python",
   "name": "your-env-name"
  },
  "language_info": {
   "codemirror_mode": {
    "name": "ipython",
    "version": 3
   },
   "file_extension": ".py",
   "mimetype": "text/x-python",
   "name": "python",
   "nbconvert_exporter": "python",
   "pygments_lexer": "ipython3",
   "version": "3.13.5"
  },
  "widgets": {
   "application/vnd.jupyter.widget-state+json": {
    "state": {},
    "version_major": 2,
    "version_minor": 0
   }
  }
 },
 "nbformat": 4,
 "nbformat_minor": 5
}
