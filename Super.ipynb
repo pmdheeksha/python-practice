{
 "cells": [
  {
   "cell_type": "code",
   "execution_count": 4,
   "id": "4dfaf39f-2457-4b59-bf2b-ad37bfba8e9b",
   "metadata": {},
   "outputs": [
    {
     "name": "stdout",
     "output_type": "stream",
     "text": [
      "B\n",
      "You are in class b\n",
      "A\n",
      "B\n",
      "C\n",
      "You are in class c\n"
     ]
    }
   ],
   "source": [
    "class a():\n",
    "    def __init__ (self):\n",
    "        print(\"A\")\n",
    "\n",
    "        def display(self):\n",
    "            print(\"You are in class a\")\n",
    "\n",
    "class b():\n",
    "    def __init__(self):\n",
    "        super().__init__()\n",
    "        print(\"B\")\n",
    "    def display(self):\n",
    "        print(\"You are in class b\")\n",
    "\n",
    "class c(b,a):\n",
    "    def __init__(self):\n",
    "        super().__init__()\n",
    "        print(\"C\")\n",
    "    def diaplay(self):\n",
    "        print(\"You are in class c\")\n",
    "\n",
    "obj2=b()\n",
    "obj2.display()\n",
    "obj1=c()  \n",
    "obj1.diaplay()"
   ]
  },
  {
   "cell_type": "code",
   "execution_count": null,
   "id": "0fafe85f-0cab-4d43-b237-51942f755841",
   "metadata": {},
   "outputs": [],
   "source": []
  }
 ],
 "metadata": {
  "kernelspec": {
   "display_name": "Python [conda env:base] *",
   "language": "python",
   "name": "conda-base-py"
  },
  "language_info": {
   "codemirror_mode": {
    "name": "ipython",
    "version": 3
   },
   "file_extension": ".py",
   "mimetype": "text/x-python",
   "name": "python",
   "nbconvert_exporter": "python",
   "pygments_lexer": "ipython3",
   "version": "3.13.5"
  },
  "widgets": {
   "application/vnd.jupyter.widget-state+json": {
    "state": {},
    "version_major": 2,
    "version_minor": 0
   }
  }
 },
 "nbformat": 4,
 "nbformat_minor": 5
}
