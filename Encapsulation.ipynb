{
 "cells": [
  {
   "cell_type": "code",
   "execution_count": 6,
   "id": "ba78a83f-5741-4aae-9f02-54e020ae9f95",
   "metadata": {},
   "outputs": [
    {
     "name": "stdout",
     "output_type": "stream",
     "text": [
      "Google\n"
     ]
    }
   ],
   "source": [
    "class company():\n",
    "    def __init__(self):\n",
    "        self.companyName=\"Google\"\n",
    "\n",
    "c1 = company()\n",
    "print(c1.companyName)"
   ]
  },
  {
   "cell_type": "code",
   "execution_count": 7,
   "id": "357c8f01-6603-4d42-96c3-cdee009d107b",
   "metadata": {},
   "outputs": [
    {
     "name": "stdout",
     "output_type": "stream",
     "text": [
      "Gooooooooogle\n"
     ]
    }
   ],
   "source": [
    "class company():\n",
    "    def __init__(self):\n",
    "        self.companyName=\"Google\"\n",
    "\n",
    "c1 = company()\n",
    "c1.companyName=\"Gooooooooogle\"\n",
    "print(c1.companyName)"
   ]
  },
  {
   "cell_type": "code",
   "execution_count": 8,
   "id": "ac54631d-885f-4ba2-a57f-7b5dc443286e",
   "metadata": {},
   "outputs": [
    {
     "ename": "AttributeError",
     "evalue": "'company' object has no attribute '__companyName'",
     "output_type": "error",
     "traceback": [
      "\u001b[31m---------------------------------------------------------------------------\u001b[39m",
      "\u001b[31mAttributeError\u001b[39m                            Traceback (most recent call last)",
      "\u001b[36mCell\u001b[39m\u001b[36m \u001b[39m\u001b[32mIn[8]\u001b[39m\u001b[32m, line 6\u001b[39m\n\u001b[32m      3\u001b[39m         \u001b[38;5;28mself\u001b[39m.__companyName=\u001b[33m\"\u001b[39m\u001b[33mGoogle\u001b[39m\u001b[33m\"\u001b[39m\n\u001b[32m      5\u001b[39m c1 = company()\n\u001b[32m----> \u001b[39m\u001b[32m6\u001b[39m \u001b[38;5;28mprint\u001b[39m(\u001b[43mc1\u001b[49m\u001b[43m.\u001b[49m\u001b[43m__companyName\u001b[49m)\n",
      "\u001b[31mAttributeError\u001b[39m: 'company' object has no attribute '__companyName'"
     ]
    }
   ],
   "source": [
    "class company():\n",
    "    def __init__(self):\n",
    "        self.__companyName=\"Google\"\n",
    "\n",
    "c1 = company()\n",
    "print(c1.__companyName)"
   ]
  },
  {
   "cell_type": "code",
   "execution_count": 9,
   "id": "2d17f642-c2aa-4ff8-a3df-b78d7c976419",
   "metadata": {},
   "outputs": [
    {
     "name": "stdout",
     "output_type": "stream",
     "text": [
      "Google\n"
     ]
    },
    {
     "ename": "AttributeError",
     "evalue": "'company' object has no attribute '__companyName'",
     "output_type": "error",
     "traceback": [
      "\u001b[31m---------------------------------------------------------------------------\u001b[39m",
      "\u001b[31mAttributeError\u001b[39m                            Traceback (most recent call last)",
      "\u001b[36mCell\u001b[39m\u001b[36m \u001b[39m\u001b[32mIn[9]\u001b[39m\u001b[32m, line 10\u001b[39m\n\u001b[32m      8\u001b[39m c1 = company()\n\u001b[32m      9\u001b[39m c1.companyName()\n\u001b[32m---> \u001b[39m\u001b[32m10\u001b[39m \u001b[38;5;28mprint\u001b[39m(\u001b[43mc1\u001b[49m\u001b[43m.\u001b[49m\u001b[43m__companyName\u001b[49m)\n",
      "\u001b[31mAttributeError\u001b[39m: 'company' object has no attribute '__companyName'"
     ]
    }
   ],
   "source": [
    "class company():\n",
    "    def __init__(self):\n",
    "        self.__companyName=\"Google\"\n",
    "\n",
    "    def companyName(self):\n",
    "        print(self.__companyName)\n",
    "\n",
    "c1 = company()\n",
    "c1.companyName()\n",
    "print(c1.__companyName)"
   ]
  },
  {
   "cell_type": "code",
   "execution_count": 10,
   "id": "c9e21dbc-bc69-4fd7-9866-2d95fe4d908a",
   "metadata": {},
   "outputs": [
    {
     "name": "stdout",
     "output_type": "stream",
     "text": [
      "Google\n"
     ]
    }
   ],
   "source": [
    "class company():\n",
    "    def __init__(self):\n",
    "        self.__companyName=\"Google\"\n",
    "\n",
    "    def companyName(self):\n",
    "        print(self.__companyName)\n",
    "\n",
    "c1 = company()\n",
    "c1.companyName()"
   ]
  },
  {
   "cell_type": "markdown",
   "id": "4b38fac8-95a0-4c9f-b35e-1f75e43303f5",
   "metadata": {},
   "source": [
    "Access Specifier for variable\n"
   ]
  },
  {
   "cell_type": "code",
   "execution_count": 3,
   "id": "9f610039-50e4-4c5b-b38e-832e8f9b3c10",
   "metadata": {},
   "outputs": [
    {
     "name": "stdout",
     "output_type": "stream",
     "text": [
      "Public Class is : I am Public\n"
     ]
    }
   ],
   "source": [
    "class Parent:\n",
    "    def __init__(self):\n",
    "        self.pub_var = \"I am Public\"\n",
    "        self._pro_var = \"I am Protected\"\n",
    "        self.__pri_var = \"I am Private\"\n",
    "class Child(Parent):\n",
    "    def access_from_subclass(self):\n",
    "        print(f\"Public Class is : {self.pub_var}\")\n",
    "        #print(\"Protected Cs : {\n",
    "\n",
    "c1 = Child()\n",
    "c1.access_from_subclass()"
   ]
  },
  {
   "cell_type": "code",
   "execution_count": 5,
   "id": "c1dd0e36-b0cb-48c0-a40e-62177f5ccc1e",
   "metadata": {},
   "outputs": [
    {
     "name": "stdout",
     "output_type": "stream",
     "text": [
      "Public Class is : I am Public\n",
      "Protected Class is : I am Protected\n"
     ]
    }
   ],
   "source": [
    "class Parent:\n",
    "    def __init__(self):\n",
    "        self.pub_var = \"I am Public\"\n",
    "        self._pro_var = \"I am Protected\"\n",
    "        self.__pri_var = \"I am Private\"\n",
    "class Child(Parent):\n",
    "    def access_from_subclass(self):\n",
    "        print(f\"Public Class is : {self.pub_var}\")\n",
    "        print(f\"Protected Class is : {self._pro_var}\")\n",
    "\n",
    "c1 = Child()\n",
    "c1.access_from_subclass()"
   ]
  },
  {
   "cell_type": "code",
   "execution_count": 10,
   "id": "5b06872d-ea6f-403c-83b8-5065739b8805",
   "metadata": {},
   "outputs": [
    {
     "name": "stdout",
     "output_type": "stream",
     "text": [
      "Public Class is : I am Public\n",
      "Protected Class is : I am Protected\n",
      "Private class is:❌ Cannot access (AttributeError)\n",
      "Inside Parent class\n",
      "Public Class is : I am Public\n",
      "Protected Class is : I am Protected\n",
      "Private class is : I am Private\n"
     ]
    }
   ],
   "source": [
    "class Parent:\n",
    "    def __init__(self):\n",
    "        self.pub_var = \"I am Public\"\n",
    "        self._pro_var = \"I am Protected\"\n",
    "        self.__pri_var = \"I am Private\"\n",
    "\n",
    "    def access_from_same_class(self):\n",
    "        print(\"Inside Parent class\")\n",
    "        print(f\"Public Class is : {self.pub_var}\")\n",
    "        print(f\"Protected Class is : {self._pro_var}\")\n",
    "        print(f\"Private class is : {self.__pri_var}\")\n",
    "        \n",
    "class Child(Parent):\n",
    "    def access_from_subclass(self):\n",
    "        print(f\"Public Class is : {self.pub_var}\")\n",
    "        print(f\"Protected Class is : {self._pro_var}\")\n",
    "        try:\n",
    "            print(f\"Private class is : {self.__pri_var}\")\n",
    "        except AttributeError:\n",
    "            print(\"Private class is:❌ Cannot access (AttributeError)\")\n",
    "\n",
    "c1 = Child()\n",
    "c1.access_from_subclass()\n",
    "c1.access_from_same_class()"
   ]
  },
  {
   "cell_type": "code",
   "execution_count": 14,
   "id": "ad49c98c-c7c9-4627-9a8f-cb35e00d44fc",
   "metadata": {},
   "outputs": [
    {
     "name": "stdout",
     "output_type": "stream",
     "text": [
      "\n",
      "➡️ Access from SAME class\n",
      "Inside Parent class\n",
      "Public Class is : I am Public\n",
      "Protected Class is : I am Protected\n",
      "Private class is : I am Private\n",
      "\n",
      "➡️ Access from SUB class\n",
      "Inside Child class\n",
      "Public Class is : I am Public\n",
      "Protected Class is : I am Protected\n",
      "Private class is:❌ Cannot access (AttributeError)\n",
      "\n",
      "➡️ Access from OTHER class\n",
      "Inside Stranger class (Unrelated):\n",
      "Public Class is : I am Public\n",
      "Protected Class is : I am Protected\n",
      "Private class is:❌ Cannot access (AttributeError)\n"
     ]
    }
   ],
   "source": [
    "class Parent:\n",
    "    def __init__(self):\n",
    "        self.pub_var = \"I am Public\"\n",
    "        self._pro_var = \"I am Protected\"\n",
    "        self.__pri_var = \"I am Private\"\n",
    "\n",
    "    def access_from_same_class(self):\n",
    "        print(\"Inside Parent class\")\n",
    "        print(f\"Public Class is : {self.pub_var}\")\n",
    "        print(f\"Protected Class is : {self._pro_var}\")\n",
    "        print(f\"Private class is : {self.__pri_var}\")\n",
    "        \n",
    "class Child(Parent):\n",
    "    def access_from_subclass(self):\n",
    "        print(\"Inside Child class\")\n",
    "        print(f\"Public Class is : {self.pub_var}\")\n",
    "        print(f\"Protected Class is : {self._pro_var}\")\n",
    "        try:\n",
    "            print(f\"Private class is : {self.__pri_var}\")\n",
    "        except AttributeError:\n",
    "            print(\"Private class is:❌ Cannot access (AttributeError)\")\n",
    "\n",
    "\n",
    "class Stranger:\n",
    "    def access_from_other_class(self,obj):\n",
    "        print(\"Inside Stranger class (Unrelated):\")\n",
    "        print(f\"Public Class is : {obj.pub_var}\")\n",
    "        print(f\"Protected Class is : {obj._pro_var}\")\n",
    "        try:\n",
    "            print(f\"Private class is : {obj.__pri_var}\")\n",
    "        except AttributeError:\n",
    "            print(\"Private class is:❌ Cannot access (AttributeError)\")\n",
    "\n",
    "p = Parent()\n",
    "c = Child()\n",
    "s = Stranger()\n",
    "\n",
    "print(\"\\n➡️ Access from SAME class\")\n",
    "p.access_from_same_class()\n",
    "print(\"\\n➡️ Access from SUB class\")\n",
    "c.access_from_subclass()\n",
    "print(\"\\n➡️ Access from OTHER class\")\n",
    "s.access_from_other_class(p)\n",
    "      \n"
   ]
  },
  {
   "cell_type": "code",
   "execution_count": 19,
   "id": "7717037a-a812-49a8-baec-16f7020d86dd",
   "metadata": {},
   "outputs": [
    {
     "name": "stdout",
     "output_type": "stream",
     "text": [
      "\n",
      "➡️ Access from SAME class\n",
      "Inside Parent class\n",
      "Public Class is : I am Public\n",
      "Protected Class is : I am Protected\n",
      "Private class is : I am Private\n",
      "\n",
      "➡️ Access from SUB class\n",
      "Inside Child class\n",
      "Public Class is : I am Public\n",
      "Protected Class is : I am Protected\n",
      "Private class is : I am Private\n",
      "\n",
      "➡️ Access from OTHER class\n",
      "Inside Stranger class (Unrelated):\n",
      "Public Class is : I am Public\n",
      "Protected Class is : I am Protected\n",
      "Private class is : I am Private\n"
     ]
    }
   ],
   "source": [
    "class Parent:\n",
    "    def __init__(self):\n",
    "        self.pub_var = \"I am Public\"\n",
    "        self._pro_var = \"I am Protected\"\n",
    "        self.__pri_var = \"I am Private\"\n",
    "\n",
    "    def access_from_same_class(self):\n",
    "        print(\"Inside Parent class\")\n",
    "        print(f\"Public Class is : {self.pub_var}\")\n",
    "        print(f\"Protected Class is : {self._pro_var}\")\n",
    "        print(f\"Private class is : {self.__pri_var}\")\n",
    "        \n",
    "class Child(Parent):\n",
    "    def access_from_subclass(self):\n",
    "        print(\"Inside Child class\")\n",
    "        print(f\"Public Class is : {self.pub_var}\")\n",
    "        print(f\"Protected Class is : {self._pro_var}\")\n",
    "        \n",
    "        print(f\"Private class is : {self._Parent__pri_var}\")# to access private class we use name managaling\n",
    "        \n",
    "\n",
    "class Stranger:\n",
    "    def access_from_other_class(self,obj):\n",
    "        print(\"Inside Stranger class (Unrelated):\")\n",
    "        print(f\"Public Class is : {obj.pub_var}\")\n",
    "        print(f\"Protected Class is : {obj._pro_var}\")\n",
    "        print(f\"Private class is : {obj._Parent__pri_var}\")\n",
    "\n",
    "p = Parent()\n",
    "c = Child()\n",
    "s = Stranger()\n",
    "\n",
    "print(\"\\n➡️ Access from SAME class\")\n",
    "p.access_from_same_class()\n",
    "print(\"\\n➡️ Access from SUB class\")\n",
    "c.access_from_subclass()\n",
    "print(\"\\n➡️ Access from OTHER class\")\n",
    "s.access_from_other_class(p)\n",
    "      \n"
   ]
  },
  {
   "cell_type": "markdown",
   "id": "dab1ce79-a6ac-484d-b4d6-275ddec058b0",
   "metadata": {},
   "source": [
    "Access Specifier for method"
   ]
  },
  {
   "cell_type": "code",
   "execution_count": 20,
   "id": "ab7e0fba-570d-4b7b-aeaa-efe261839e45",
   "metadata": {},
   "outputs": [
    {
     "name": "stdout",
     "output_type": "stream",
     "text": [
      "\n",
      "➡️ Access from SAME class\n",
      "Inside Parent Class\n",
      "Public Method\n",
      "Protected Method\n",
      "Private Method\n",
      "\n",
      "➡️ Access from SUB class\n",
      "Inside child class\n",
      "Public Method\n",
      "Protected Method\n",
      "Private method:❌ cannot access (AttributeError)\n"
     ]
    }
   ],
   "source": [
    "class Parent:\n",
    "    def public_method(self):\n",
    "        print(\"Public Method\")\n",
    "\n",
    "    def _protected_method(self):\n",
    "        print(\"Protected Method\")\n",
    "\n",
    "    def __private_method(self):\n",
    "        print(\"Private Method\")\n",
    "\n",
    "    def access_from_same_class(self):\n",
    "        print(\"Inside Parent Class\")\n",
    "        self.public_method()\n",
    "        self._protected_method()\n",
    "        self.__private_method()\n",
    "\n",
    "\n",
    "class Child(Parent):\n",
    "    def access_from_subclass(self):\n",
    "        print(\"Inside child class\")\n",
    "        self.public_method()\n",
    "        self._protected_method()\n",
    "        try:\n",
    "            self.__private_method()\n",
    "        except AttributeError:\n",
    "            print(\"Private method:❌ cannot access (AttributeError)\")\n",
    "\n",
    "p = Parent()\n",
    "c = Child()\n",
    "\n",
    "print(\"\\n➡️ Access from SAME class\")\n",
    "p.access_from_same_class()\n",
    "print(\"\\n➡️ Access from SUB class\")\n",
    "c.access_from_subclass()       "
   ]
  },
  {
   "cell_type": "code",
   "execution_count": 5,
   "id": "429c85b1-29e6-402f-a50b-10d3064fbfbb",
   "metadata": {},
   "outputs": [
    {
     "name": "stdout",
     "output_type": "stream",
     "text": [
      "\n",
      "➡️ Access from SAME class\n",
      "Inside Parent Class\n",
      "Public Method\n",
      "Protected Method\n",
      "Private Method\n",
      "\n",
      "➡️ Access from SUB class\n",
      "Inside child class\n",
      "Public Method\n",
      "Protected Method\n",
      "Private Method\n"
     ]
    }
   ],
   "source": [
    "class Parent:\n",
    "    def public_method(self):\n",
    "        print(\"Public Method\")\n",
    "\n",
    "    def _protected_method(self):\n",
    "        print(\"Protected Method\")\n",
    "\n",
    "    def __private_method(self):\n",
    "        print(\"Private Method\")\n",
    "\n",
    "    def access_from_same_class(self):\n",
    "        print(\"Inside Parent Class\")\n",
    "        self.public_method()\n",
    "        self._protected_method()\n",
    "        self.__private_method()\n",
    "\n",
    "\n",
    "class Child(Parent):\n",
    "    def access_from_subclass(self):\n",
    "        print(\"Inside child class\")\n",
    "        self.public_method()\n",
    "        self._protected_method()\n",
    "        \n",
    "        self._Parent__private_method()#name mangaling\n",
    "       \n",
    "\n",
    "p = Parent()\n",
    "c = Child()\n",
    "\n",
    "print(\"\\n➡️ Access from SAME class\")\n",
    "p.access_from_same_class()\n",
    "print(\"\\n➡️ Access from SUB class\")\n",
    "c.access_from_subclass() "
   ]
  },
  {
   "cell_type": "markdown",
   "id": "5eeb5c29-b6c6-4a95-94ec-5101827f2857",
   "metadata": {},
   "source": [
    "encapsulate"
   ]
  },
  {
   "cell_type": "code",
   "execution_count": 4,
   "id": "adf3284a-1e51-4339-b892-e5f207ea730e",
   "metadata": {},
   "outputs": [
    {
     "name": "stdout",
     "output_type": "stream",
     "text": [
      " \n",
      "Admin  View\n",
      "{'Customer': 'Dheeksha', 'Items': {'Fried Chicken', 'Pepsi', 'Burger'}, 'Total Amount': '💲700', 'Discount': '💲150', 'Final Bill': '💲550'}\n",
      "\n",
      " Customer View\n",
      "{'Customer': 'Dheeksha', 'Items': {'Fried Chicken', 'Pepsi', 'Burger'}, 'Final Bill': '💲550'}\n"
     ]
    }
   ],
   "source": [
    "class Order:\n",
    "    def __init__(self,customer_name,items,total_amount,discount):\n",
    "        self.customer_name = customer_name\n",
    "        self.items = items\n",
    "        self.__total_amount = total_amount\n",
    "        self.__discount = discount\n",
    "\n",
    "    def __calculate_final(self):#private help method\n",
    "        return self.__total_amount - self.__discount\n",
    "\n",
    "    def _get_admin_view(self): #protected class\n",
    "        return{\n",
    "            \"Customer\":self.customer_name,\n",
    "            \"Items\":self.items,\n",
    "            \"Total Amount\": f\"💲{self.__total_amount}\",\n",
    "            \"Discount\": f\"💲{self.__discount}\",\n",
    "            \"Final Bill\":f\"💲{self.__calculate_final()}\"\n",
    "        }\n",
    "\n",
    "    def get_customer_view(self):\n",
    "        return{\n",
    "            \"Customer\":self.customer_name,\n",
    "            \"Items\":self.items,\n",
    "            \"Final Bill\":f\"💲{self.__calculate_final()}\"\n",
    "        }\n",
    "\n",
    "class Adminportal:\n",
    "    def show_order(self,order):\n",
    "        return order._get_admin_view()\n",
    "\n",
    "class CustomerApp:\n",
    "    def show_order(self,order):\n",
    "        return order.get_customer_view()\n",
    "\n",
    "order = Order(\"Dheeksha\",{\"Burger\",\"Pepsi\",\"Fried Chicken\"},700,150)\n",
    "admin = Adminportal()\n",
    "customer = CustomerApp()\n",
    "\n",
    "print(\" \\nAdmin  View\")\n",
    "print(admin.show_order(order))\n",
    "print(\"\\n Customer View\")\n",
    "print(customer.show_order(order))\n",
    "    \n",
    "\n"
   ]
  },
  {
   "cell_type": "code",
   "execution_count": null,
   "id": "b1037b90-8a5e-49be-ad4f-3c4e9802052b",
   "metadata": {},
   "outputs": [],
   "source": []
  }
 ],
 "metadata": {
  "kernelspec": {
   "display_name": "Python [conda env:base] *",
   "language": "python",
   "name": "conda-base-py"
  },
  "language_info": {
   "codemirror_mode": {
    "name": "ipython",
    "version": 3
   },
   "file_extension": ".py",
   "mimetype": "text/x-python",
   "name": "python",
   "nbconvert_exporter": "python",
   "pygments_lexer": "ipython3",
   "version": "3.13.5"
  },
  "widgets": {
   "application/vnd.jupyter.widget-state+json": {
    "state": {},
    "version_major": 2,
    "version_minor": 0
   }
  }
 },
 "nbformat": 4,
 "nbformat_minor": 5
}
