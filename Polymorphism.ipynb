{
 "cells": [
  {
   "cell_type": "code",
   "execution_count": 1,
   "id": "9af9b71a-d228-452a-8756-ffe7fbfe75b8",
   "metadata": {},
   "outputs": [
    {
     "name": "stdout",
     "output_type": "stream",
     "text": [
      "3\n",
      "38\n"
     ]
    }
   ],
   "source": [
    "def add(a,b,c=0):\n",
    "    print(a+b+c)\n",
    "\n",
    "add(1,2)\n",
    "add(15,4,19)"
   ]
  },
  {
   "cell_type": "code",
   "execution_count": 2,
   "id": "8d220e71-d650-4122-b0e1-bc9fb6bab762",
   "metadata": {},
   "outputs": [
    {
     "name": "stdout",
     "output_type": "stream",
     "text": [
      "Dog Barks\n",
      "Bird Sings\n"
     ]
    }
   ],
   "source": [
    "# Method overloading it is not applicable for python\n",
    "class Animal():\n",
    "    def sound(self):\n",
    "        print(\"Animal makes a sound\")\n",
    "class Dog(Animal):\n",
    "    def sound(self):\n",
    "        print(\"Dog Barks\")\n",
    "class Bird(Animal):\n",
    "    def sound(self):\n",
    "        print(\"Bird Sings\")\n",
    "\n",
    "d1 = Dog()\n",
    "d1.sound()\n",
    "\n",
    "b1 = Bird()\n",
    "b1.sound()\n",
    "\n",
    "        \n",
    "    "
   ]
  },
  {
   "cell_type": "code",
   "execution_count": 9,
   "id": "44755c52-ae57-4248-8a56-e32e32817d3b",
   "metadata": {},
   "outputs": [
    {
     "name": "stdout",
     "output_type": "stream",
     "text": [
      "House Yellow\n"
     ]
    }
   ],
   "source": [
    "# method overrides is applicable in python\n",
    "class dad:\n",
    "    def house(self):\n",
    "        print(\"House white\")\n",
    "class daughter(dad):\n",
    "    def factory(self):\n",
    "        print(\"Factory\")\n",
    "\n",
    "    def house(self):\n",
    "        print(\"House Yellow\")\n",
    "\n",
    "d = daughter()\n",
    "d.house()"
   ]
  },
  {
   "cell_type": "code",
   "execution_count": 3,
   "id": "70761845-e79c-40d7-8657-f75b087f53ed",
   "metadata": {},
   "outputs": [
    {
     "name": "stdout",
     "output_type": "stream",
     "text": [
      "0\n"
     ]
    }
   ],
   "source": [
    "class Shape():\n",
    "    def area(self):\n",
    "        return 0\n",
    "s1 = Shape()\n",
    "print(s1.area())"
   ]
  },
  {
   "cell_type": "code",
   "execution_count": 4,
   "id": "c993d4fa-6472-4637-8a17-7eae0a9d42b0",
   "metadata": {},
   "outputs": [
    {
     "name": "stdout",
     "output_type": "stream",
     "text": [
      "200\n"
     ]
    }
   ],
   "source": [
    "class Shape():\n",
    "    def area(self):\n",
    "        return 0\n",
    "\n",
    "class rectangle(Shape):\n",
    "    def area (self):\n",
    "        l = 10\n",
    "        b = 20\n",
    "        print(l*b)\n",
    "\n",
    "r1 = rectangle()\n",
    "r1.area()"
   ]
  },
  {
   "cell_type": "code",
   "execution_count": 5,
   "id": "ad6237f4-9444-4eef-abc9-459d5d612594",
   "metadata": {},
   "outputs": [
    {
     "name": "stdout",
     "output_type": "stream",
     "text": [
      "A\n"
     ]
    }
   ],
   "source": [
    "class Person():\n",
    "    def __init__(self,name):\n",
    "        self.name = name\n",
    "\n",
    "class student(Person):\n",
    "    def __init__(self,grade):\n",
    "        self.grade = grade\n",
    "        print(grade)\n",
    "\n",
    "s1 = student(\"A\")\n"
   ]
  },
  {
   "cell_type": "code",
   "execution_count": 6,
   "id": "8f70a5de-4d48-431b-8631-e2ffe742eec9",
   "metadata": {},
   "outputs": [
    {
     "name": "stdout",
     "output_type": "stream",
     "text": [
      "Dhee A\n"
     ]
    }
   ],
   "source": [
    "class Person():\n",
    "    def __init__(self,name):\n",
    "        self.name = name\n",
    "\n",
    "class student(Person):\n",
    "    def __init__(self,name,grade):\n",
    "        super().__init__(name)\n",
    "        self.grade = grade\n",
    "        \n",
    "    def display(self):\n",
    "        print(self.name,self.grade)\n",
    "\n",
    "s1 = student(\"Dhee\" , \"A\")\n",
    "s1.display()\n"
   ]
  },
  {
   "cell_type": "code",
   "execution_count": 7,
   "id": "23b67308-ed6e-4545-9e73-7f67c278bd24",
   "metadata": {},
   "outputs": [
    {
     "name": "stdout",
     "output_type": "stream",
     "text": [
      "car started\n"
     ]
    }
   ],
   "source": [
    "class vehicle():\n",
    "    def start(self):\n",
    "        print(\"Vehicle started\")\n",
    "class car(vehicle):\n",
    "    def start(self):\n",
    "        print(\"car started\")\n",
    "v1 = car()\n",
    "v1.start()"
   ]
  },
  {
   "cell_type": "code",
   "execution_count": 8,
   "id": "d707a7ed-d696-4dc8-8e65-19831f052b3e",
   "metadata": {},
   "outputs": [
    {
     "name": "stdout",
     "output_type": "stream",
     "text": [
      "Dhee 45000 AI&DS\n"
     ]
    }
   ],
   "source": [
    "class employee():\n",
    "    def __init__(self,name,salary):\n",
    "        self.name = name\n",
    "        self.salary = salary\n",
    "\n",
    "class manager(employee):\n",
    "    def __init__(self,name,salary,department):\n",
    "        super().__init__(name,salary)\n",
    "        self.department = department\n",
    "\n",
    "    def display(self):\n",
    "        print(self.name,self.salary,self.department)\n",
    "\n",
    "m1 = manager(\"Dhee\",\"45000\",\"AI&DS\")\n",
    "m1.display()\n",
    "        "
   ]
  },
  {
   "cell_type": "code",
   "execution_count": null,
   "id": "5e7b533f-0690-4f1d-83f8-6c6f072e0bd6",
   "metadata": {},
   "outputs": [],
   "source": []
  }
 ],
 "metadata": {
  "kernelspec": {
   "display_name": "Python (your-env-name)",
   "language": "python",
   "name": "your-env-name"
  },
  "language_info": {
   "codemirror_mode": {
    "name": "ipython",
    "version": 3
   },
   "file_extension": ".py",
   "mimetype": "text/x-python",
   "name": "python",
   "nbconvert_exporter": "python",
   "pygments_lexer": "ipython3",
   "version": "3.13.5"
  },
  "widgets": {
   "application/vnd.jupyter.widget-state+json": {
    "state": {},
    "version_major": 2,
    "version_minor": 0
   }
  }
 },
 "nbformat": 4,
 "nbformat_minor": 5
}
