{
 "cells": [
  {
   "cell_type": "code",
   "execution_count": 1,
   "id": "f9c40f7c-f78e-4c6e-873c-8f35b8674639",
   "metadata": {},
   "outputs": [
    {
     "name": "stdout",
     "output_type": "stream",
     "text": [
      "Message\n"
     ]
    }
   ],
   "source": [
    "def painter():\n",
    "    print(\"Message\")\n",
    "painter()"
   ]
  },
  {
   "cell_type": "code",
   "execution_count": 2,
   "id": "164ff8d7-b26d-4276-a2e0-d952a7e0bf5c",
   "metadata": {},
   "outputs": [
    {
     "name": "stdout",
     "output_type": "stream",
     "text": [
      "My msg paint my house\n"
     ]
    }
   ],
   "source": [
    "def painter(msg):\n",
    "    print(\"My msg\",msg)\n",
    "painter(\"paint my house\")"
   ]
  },
  {
   "cell_type": "code",
   "execution_count": 3,
   "id": "c658a757-b466-4d0c-826f-abee563a4ebd",
   "metadata": {},
   "outputs": [
    {
     "name": "stdout",
     "output_type": "stream",
     "text": [
      "Even\n"
     ]
    }
   ],
   "source": [
    "def evenorodd(num):\n",
    "    if(num%2==0):\n",
    "        print(\"Even\")\n",
    "    else:\n",
    "        print(\"odd\")\n",
    "evenorodd(4500)"
   ]
  },
  {
   "cell_type": "code",
   "execution_count": 4,
   "id": "f6adfc63-c683-427a-a328-33695a259af4",
   "metadata": {},
   "outputs": [
    {
     "name": "stdin",
     "output_type": "stream",
     "text": [
      "Enter the number 43\n"
     ]
    },
    {
     "name": "stdout",
     "output_type": "stream",
     "text": [
      "odd\n"
     ]
    }
   ],
   "source": [
    "def evenorodd(num):\n",
    "    if(num%2==0):\n",
    "        print(\"Even\")\n",
    "    else:\n",
    "        print(\"odd\")\n",
    "b=int(input(\"Enter the number\"))\n",
    "evenorodd(b) "
   ]
  },
  {
   "cell_type": "code",
   "execution_count": 5,
   "id": "3558565a-3ef1-47c5-8481-4d1a6d4e908d",
   "metadata": {},
   "outputs": [
    {
     "name": "stdin",
     "output_type": "stream",
     "text": [
      "Enter the number 65\n"
     ]
    },
    {
     "name": "stdout",
     "output_type": "stream",
     "text": [
      "pass\n"
     ]
    }
   ],
   "source": [
    "def findpassorfail(mark):\n",
    "    if mark>=35:\n",
    "        print(\"pass\")\n",
    "    else:\n",
    "        print(\"fail\")\n",
    "score=int(input(\"Enter the number\"))\n",
    "findpassorfail(score)\n"
   ]
  },
  {
   "cell_type": "code",
   "execution_count": 6,
   "id": "63bd8189-ed25-426e-9724-27f68cc87a06",
   "metadata": {},
   "outputs": [
    {
     "name": "stdin",
     "output_type": "stream",
     "text": [
      "Enter the value 5\n",
      "Enter the value 12\n"
     ]
    },
    {
     "name": "stdout",
     "output_type": "stream",
     "text": [
      "5\n",
      "6\n",
      "7\n",
      "8\n",
      "9\n",
      "10\n",
      "11\n"
     ]
    }
   ],
   "source": [
    "def printrange():\n",
    "    for i in range(a,b):\n",
    "        print(i)\n",
    "a = int(input(\"Enter the value\"))\n",
    "b = int(input(\"Enter the value\"))\n",
    "printrange()\n"
   ]
  },
  {
   "cell_type": "code",
   "execution_count": 7,
   "id": "875159ee-7da9-4b12-bb20-e0763a0bcf67",
   "metadata": {},
   "outputs": [
    {
     "name": "stdout",
     "output_type": "stream",
     "text": [
      "I am painter\n"
     ]
    }
   ],
   "source": [
    "def painter():\n",
    "    return\"I am painter\"\n",
    "print(painter())"
   ]
  },
  {
   "cell_type": "code",
   "execution_count": 8,
   "id": "0bf90703-e4af-4825-b48b-554f7590f4ad",
   "metadata": {},
   "outputs": [
    {
     "name": "stdin",
     "output_type": "stream",
     "text": [
      "Enter the name mugan\n",
      "Enter the password 456\n"
     ]
    },
    {
     "name": "stdout",
     "output_type": "stream",
     "text": [
      "wrong\n"
     ]
    }
   ],
   "source": [
    "s_username = \"Mugun\"\n",
    "s_password = 3456\n",
    "\n",
    "u_username = input(\"Enter the name\")\n",
    "u_password = int(input(\"Enter the password\"))\n",
    "\n",
    "def validate():\n",
    "    if(s_username==u_username and s_password==u_password):\n",
    "        print(\"correct\")\n",
    "    else:\n",
    "        print(\"wrong\")\n",
    "\n",
    "\n",
    "validate()\n",
    "    "
   ]
  },
  {
   "cell_type": "code",
   "execution_count": 9,
   "id": "1436a6fe-4943-48ba-9e96-2a8b9f69095c",
   "metadata": {},
   "outputs": [
    {
     "name": "stdin",
     "output_type": "stream",
     "text": [
      "Enter the name Mugun\n",
      "Enter the password 3456\n"
     ]
    },
    {
     "name": "stdout",
     "output_type": "stream",
     "text": [
      "True\n"
     ]
    }
   ],
   "source": [
    "s_username = \"Mugun\"\n",
    "s_password = 3456\n",
    "\n",
    "u_username = input(\"Enter the name\")\n",
    "u_password = int(input(\"Enter the password\"))\n",
    "\n",
    "def validate():\n",
    "    if(s_username==u_username and s_password==u_password):\n",
    "        return True\n",
    "    else:\n",
    "        return False\n",
    "\n",
    "\n",
    "a=validate()\n",
    "print(a)\n",
    "    "
   ]
  },
  {
   "cell_type": "code",
   "execution_count": 10,
   "id": "359a0411-710d-400e-a667-46c4079e9867",
   "metadata": {},
   "outputs": [
    {
     "name": "stdin",
     "output_type": "stream",
     "text": [
      "Enter A 4\n",
      "Enter B 5\n",
      "Enter C 6\n"
     ]
    },
    {
     "name": "stdout",
     "output_type": "stream",
     "text": [
      "54\n"
     ]
    }
   ],
   "source": [
    "a = int(input(\"Enter A\"))\n",
    "b = int(input(\"Enter B\"))\n",
    "c = int(input(\"Enter C\"))\n",
    "def add(n1,n2):\n",
    "    return n1+n2\n",
    "\n",
    "sum = add(a,b)\n",
    "total = sum*c\n",
    "print(total)\n"
   ]
  },
  {
   "cell_type": "code",
   "execution_count": 11,
   "id": "5a5523cf-6f37-44c7-ba83-8f0593260408",
   "metadata": {},
   "outputs": [
    {
     "name": "stdout",
     "output_type": "stream",
     "text": [
      "Welcome to function\n"
     ]
    }
   ],
   "source": [
    "def great():\n",
    "    print(\"Welcome to function\")\n",
    "great()"
   ]
  },
  {
   "cell_type": "code",
   "execution_count": 12,
   "id": "18c51fce-1ef3-40bf-bb9f-689559eeb220",
   "metadata": {},
   "outputs": [
    {
     "name": "stdout",
     "output_type": "stream",
     "text": [
      "Hello Dheeksha, WELCOME\n"
     ]
    }
   ],
   "source": [
    "#function with argument\n",
    "def great(name):\n",
    "    print(f\"Hello {name}, WELCOME\")\n",
    "great(\"Dheeksha\")"
   ]
  },
  {
   "cell_type": "code",
   "execution_count": 13,
   "id": "01906a33-4b17-4880-beea-a74429a222cc",
   "metadata": {},
   "outputs": [
    {
     "name": "stdout",
     "output_type": "stream",
     "text": [
      "110\n"
     ]
    }
   ],
   "source": [
    "def add(a,b):\n",
    "    print(a+b)\n",
    "add(70,40)"
   ]
  },
  {
   "cell_type": "code",
   "execution_count": 14,
   "id": "f7fa7b57-873e-4452-acc8-04d537f55003",
   "metadata": {},
   "outputs": [
    {
     "name": "stdout",
     "output_type": "stream",
     "text": [
      "19\n"
     ]
    }
   ],
   "source": [
    "def add(a,b):\n",
    "    return(a+b)\n",
    "result = add(4,15)\n",
    "print(result)"
   ]
  },
  {
   "cell_type": "code",
   "execution_count": 15,
   "id": "13e03c60-db0c-4be3-8eb5-721449f74f9a",
   "metadata": {},
   "outputs": [
    {
     "name": "stdout",
     "output_type": "stream",
     "text": [
      "15\n"
     ]
    }
   ],
   "source": [
    "#*args\n",
    "def add(*args):\n",
    "    total = 0\n",
    "    for num in args:\n",
    "        total+=num\n",
    "        #0+=1\n",
    "        #1+=2\n",
    "        #3+=3\n",
    "        #6+=4\n",
    "        #10+=5\n",
    "        #15\n",
    "        \n",
    "\n",
    "    return total\n",
    "\n",
    "print(add(1,2,3,4,5))"
   ]
  },
  {
   "cell_type": "code",
   "execution_count": 16,
   "id": "240b8e43-cc90-4957-865f-4391fb69d8ec",
   "metadata": {},
   "outputs": [
    {
     "name": "stdout",
     "output_type": "stream",
     "text": [
      "User Profile\n",
      "Name : Dheeksha PM\n",
      "Age : 20\n",
      "Job : DataScience\n"
     ]
    }
   ],
   "source": [
    "#**kwargs\n",
    "def create_profile(**kwargs):\n",
    "    print(\"User Profile\")\n",
    "    for key,value in kwargs.items():\n",
    "        print(f\"{key} : {value}\")\n",
    "\n",
    "create_profile(Name=\"Dheeksha PM\",Age=20,Job=\"DataScience\")\n",
    "    "
   ]
  },
  {
   "cell_type": "code",
   "execution_count": null,
   "id": "19b73cdd-1052-47d0-b414-e44bb525f926",
   "metadata": {},
   "outputs": [],
   "source": []
  }
 ],
 "metadata": {
  "kernelspec": {
   "display_name": "Python [conda env:base] *",
   "language": "python",
   "name": "conda-base-py"
  },
  "language_info": {
   "codemirror_mode": {
    "name": "ipython",
    "version": 3
   },
   "file_extension": ".py",
   "mimetype": "text/x-python",
   "name": "python",
   "nbconvert_exporter": "python",
   "pygments_lexer": "ipython3",
   "version": "3.13.5"
  },
  "widgets": {
   "application/vnd.jupyter.widget-state+json": {
    "state": {},
    "version_major": 2,
    "version_minor": 0
   }
  }
 },
 "nbformat": 4,
 "nbformat_minor": 5
}
