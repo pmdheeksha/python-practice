{
 "cells": [
  {
   "cell_type": "code",
   "execution_count": 1,
   "id": "f4fa4603-4f00-43a5-be22-122b338f27e7",
   "metadata": {},
   "outputs": [
    {
     "name": "stdout",
     "output_type": "stream",
     "text": [
      "No cup\n"
     ]
    }
   ],
   "source": [
    "# loop condition\n",
    "rcb = \"loss\"\n",
    "if(rcb==\"win\"):\n",
    "    print(\"Ee sala cup namde\")\n",
    "else:\n",
    "    print(\"No cup\")"
   ]
  },
  {
   "cell_type": "code",
   "execution_count": 2,
   "id": "a23d8109-fe03-4ebc-a6f0-c2aef0c0a80e",
   "metadata": {},
   "outputs": [
    {
     "name": "stdin",
     "output_type": "stream",
     "text": [
      "Enter the Statement Died\n"
     ]
    },
    {
     "name": "stdout",
     "output_type": "stream",
     "text": [
      "Surya weds Priya\n"
     ]
    }
   ],
   "source": [
    "Meghna =input(\"Enter the Statement\")\n",
    "if(Meghna==\"Died\"):\n",
    "    print(\"Surya weds Priya\")\n",
    "else:\n",
    "    print(\"Surya wed Meghna\")"
   ]
  },
  {
   "cell_type": "code",
   "execution_count": 3,
   "id": "9152c32f-8267-4a4b-a305-d46620c70ae1",
   "metadata": {},
   "outputs": [
    {
     "name": "stdin",
     "output_type": "stream",
     "text": [
      "Enter the Mark 76\n"
     ]
    },
    {
     "name": "stdout",
     "output_type": "stream",
     "text": [
      "pass\n"
     ]
    }
   ],
   "source": [
    "mark = int(input(\"Enter the Mark\"))\n",
    "if(mark>35):\n",
    "    print(\"pass\")\n",
    "else:\n",
    "    print(\"Fail\")"
   ]
  },
  {
   "cell_type": "code",
   "execution_count": 4,
   "id": "378c5f1d-3483-44fb-9b7f-e9ea2adba230",
   "metadata": {},
   "outputs": [
    {
     "name": "stdin",
     "output_type": "stream",
     "text": [
      "Enter the income 9876\n"
     ]
    },
    {
     "name": "stdout",
     "output_type": "stream",
     "text": [
      " Not Eligible for Scholarship\n"
     ]
    }
   ],
   "source": [
    "#income greater than 7000 if than else\n",
    "income = int(input(\"Enter the income\"))\n",
    "if(income>7000):\n",
    "    print(\" Not Eligible for Scholarship\")\n",
    "else:\n",
    "    print(\"Eligible for Scholarship\")"
   ]
  },
  {
   "cell_type": "code",
   "execution_count": 5,
   "id": "4e2e4abe-0867-4f57-a007-d525de149746",
   "metadata": {},
   "outputs": [
    {
     "name": "stdout",
     "output_type": "stream",
     "text": [
      "0\n"
     ]
    }
   ],
   "source": [
    "a = 10\n",
    "print(a%2)"
   ]
  },
  {
   "cell_type": "code",
   "execution_count": 6,
   "id": "428c14d4-fdcd-402d-b095-c59101216ee3",
   "metadata": {},
   "outputs": [
    {
     "name": "stdin",
     "output_type": "stream",
     "text": [
      "Enter the number 120\n"
     ]
    },
    {
     "name": "stdout",
     "output_type": "stream",
     "text": [
      "Divisible by 3 and 5\n"
     ]
    }
   ],
   "source": [
    "num = int(input(\"Enter the number\"))\n",
    "if(num%3==0 and num%5==0):\n",
    "    print(\"Divisible by 3 and 5\")\n",
    "else:\n",
    "    print(\"Not Divisible\")"
   ]
  },
  {
   "cell_type": "code",
   "execution_count": 1,
   "id": "b6b5f09c-c680-4ac4-a835-2f137e7976d6",
   "metadata": {},
   "outputs": [
    {
     "name": "stdin",
     "output_type": "stream",
     "text": [
      "Enter the Values 34\n"
     ]
    },
    {
     "name": "stdout",
     "output_type": "stream",
     "text": [
      "The given number is Even\n"
     ]
    }
   ],
   "source": [
    "num = int(input(\"Enter the Values\"))\n",
    "if(num%2==0):\n",
    "    print(\"The given number is Even\")\n",
    "else:\n",
    "    print(\"The given number is odd\")"
   ]
  },
  {
   "cell_type": "code",
   "execution_count": 8,
   "id": "26f5820b-5c35-4b74-b03d-e15793ee09e2",
   "metadata": {},
   "outputs": [
    {
     "name": "stdin",
     "output_type": "stream",
     "text": [
      "Enter the score 50\n"
     ]
    },
    {
     "name": "stdout",
     "output_type": "stream",
     "text": [
      "The student is average\n"
     ]
    }
   ],
   "source": [
    "score = int(input(\"Enter the score\"))\n",
    "if(score>70):\n",
    "    print(\"The student is good\")\n",
    "elif(score>35 and score<=70):\n",
    "    print(\"The student is average\")\n",
    "else:\n",
    "    print(\"The student is poor\")"
   ]
  },
  {
   "cell_type": "code",
   "execution_count": 9,
   "id": "09caf948-b209-4157-8491-184691ac5e84",
   "metadata": {},
   "outputs": [
    {
     "name": "stdin",
     "output_type": "stream",
     "text": [
      "Enter the number 1 67\n",
      "Enter the number 2 89\n"
     ]
    },
    {
     "name": "stdout",
     "output_type": "stream",
     "text": [
      "add/sub/mul/div\n"
     ]
    },
    {
     "name": "stdin",
     "output_type": "stream",
     "text": [
      "Enter the operation sub\n"
     ]
    },
    {
     "name": "stdout",
     "output_type": "stream",
     "text": [
      "The subtraction of number is -22\n"
     ]
    }
   ],
   "source": [
    "num_1 = int(input(\"Enter the number 1\"))\n",
    "num_2 = int(input(\"Enter the number 2\"))\n",
    "print(\"add/sub/mul/div\")\n",
    "operation = input(\"Enter the operation\")\n",
    "if(operation==\"add\"):\n",
    "    print(\"The addition of number is\" ,num_1+num_2)\n",
    "elif(operation==\"sub\"):\n",
    "    print(\"The subtraction of number is\" ,num_1-num_2)\n",
    "elif(operation==\"mul\"):\n",
    "    print(\"The multiplication of number is\",num_1*num_2)\n",
    "elif(operation==\"div\"):\n",
    "    print(\"The division of number is\" ,num_1/num_2)\n",
    "else:\n",
    "    print(\"Invalid syntax\")\n"
   ]
  },
  {
   "cell_type": "code",
   "execution_count": 2,
   "id": "1e8b2ad5-6cb4-4bac-91f5-9a487b2af65c",
   "metadata": {},
   "outputs": [
    {
     "name": "stdin",
     "output_type": "stream",
     "text": [
      "Enter the score 89\n",
      "Enter the name VidhyaSagar\n",
      "Enter the department Tenth std\n",
      "Enter the location Puliyancherri(Anna Nagar) Beemandapalli post Krishnagiri DT&TK\n"
     ]
    },
    {
     "name": "stdout",
     "output_type": "stream",
     "text": [
      "You are Eligible\n"
     ]
    }
   ],
   "source": [
    "score_percentage = int(input(\"Enter the score\"))\n",
    "if(score_percentage>70):\n",
    "    name = input(\"Enter the name\")\n",
    "    department = input(\"Enter the department\")\n",
    "    location = input(\"Enter the location\")\n",
    "    print(\"You are Eligible\")\n",
    "else:\n",
    "    print(\"You are not Eligible\")\n",
    "    "
   ]
  },
  {
   "cell_type": "code",
   "execution_count": 11,
   "id": "c0d06c78-3ffa-42f7-bc6a-b6452389ff61",
   "metadata": {},
   "outputs": [
    {
     "name": "stdin",
     "output_type": "stream",
     "text": [
      "Enter the sub_1 mark 78\n",
      "Enter the sub_2 mark 98\n",
      "Enter the sub_3 mark 78\n",
      "Enter the sub_4 mark 98\n",
      "Enter the sub_5 mark 87\n"
     ]
    },
    {
     "name": "stdout",
     "output_type": "stream",
     "text": [
      "The Average mark is 439\n",
      "The percentage is 87.8\n",
      "The student is good to go\n"
     ]
    }
   ],
   "source": [
    "sub_1 = int(input(\"Enter the sub_1 mark\"))\n",
    "sub_2 = int(input(\"Enter the sub_2 mark\"))\n",
    "sub_3 = int(input(\"Enter the sub_3 mark\"))\n",
    "sub_4 = int(input(\"Enter the sub_4 mark\"))\n",
    "sub_5 = int(input(\"Enter the sub_5 mark\"))\n",
    "average = (sub_1+sub_2+sub_3+sub_4+sub_5)\n",
    "percentage = average/5\n",
    "print(\"The Average mark is\", average)\n",
    "print(\"The percentage is\", percentage)\n",
    "if(average<35):\n",
    "    print(\"The student need additional class\")\n",
    "else:\n",
    "    print(\"The student is good to go\")"
   ]
  },
  {
   "cell_type": "code",
   "execution_count": 12,
   "id": "9116d90d-833c-4748-bbbd-32135dfbc964",
   "metadata": {},
   "outputs": [
    {
     "name": "stdin",
     "output_type": "stream",
     "text": [
      "Enter the year 2005\n"
     ]
    },
    {
     "name": "stdout",
     "output_type": "stream",
     "text": [
      "Not Leap year\n"
     ]
    }
   ],
   "source": [
    "year = int(input(\"Enter the year\"))\n",
    "if(year%4==0):\n",
    "    print(\"Leap year\")\n",
    "else:\n",
    "    print(\"Not Leap year\")"
   ]
  },
  {
   "cell_type": "code",
   "execution_count": 13,
   "id": "23bfbf8d-a1d9-4989-bfde-a88638ca492f",
   "metadata": {},
   "outputs": [
    {
     "name": "stdout",
     "output_type": "stream",
     "text": [
      "10000\n"
     ]
    }
   ],
   "source": [
    "a = 10**4\n",
    "print(a)"
   ]
  },
  {
   "cell_type": "code",
   "execution_count": 14,
   "id": "2535d2eb-0d24-436e-8d7c-52514d7b7c65",
   "metadata": {},
   "outputs": [
    {
     "name": "stdout",
     "output_type": "stream",
     "text": [
      "yes discount\n"
     ]
    }
   ],
   "source": [
    "age = 45\n",
    "student = \"yes\"\n",
    "if age>=60 or student==\"yes\":\n",
    "    print(\"yes discount\")\n",
    "else:\n",
    "    print(\"No discount\")"
   ]
  },
  {
   "cell_type": "code",
   "execution_count": 15,
   "id": "5facc603-70da-433e-b523-b2e66767b7eb",
   "metadata": {},
   "outputs": [
    {
     "name": "stdout",
     "output_type": "stream",
     "text": [
      "You can't vote\n"
     ]
    }
   ],
   "source": [
    "age = 15\n",
    "if age>=18:\n",
    "    print(\"You can vote\")\n",
    "else:\n",
    "    print(\"You can't vote\")"
   ]
  },
  {
   "cell_type": "code",
   "execution_count": 16,
   "id": "4bd98390-0eb9-4e6a-b78b-3849c3a9d4ec",
   "metadata": {},
   "outputs": [
    {
     "name": "stdin",
     "output_type": "stream",
     "text": [
      "Enter the color Yellow\n"
     ]
    },
    {
     "name": "stdout",
     "output_type": "stream",
     "text": [
      "Get Ready\n"
     ]
    }
   ],
   "source": [
    "traffic_color=input(\"Enter the color\")\n",
    "if traffic_color ==\"Green\":\n",
    "    print(\"Go\")\n",
    "elif traffic_color == \"Yellow\":\n",
    "    print(\"Get Ready\")\n",
    "elif traffic_color ==\"Red\":\n",
    "    print(\"Stop\")\n",
    "else:\n",
    "    print(\"No color required in the signal light\")"
   ]
  },
  {
   "cell_type": "code",
   "execution_count": 17,
   "id": "702689a7-f841-4f0b-8b4b-325f6f34a973",
   "metadata": {},
   "outputs": [
    {
     "name": "stdout",
     "output_type": "stream",
     "text": [
      "Without licsence you can't drive\n"
     ]
    }
   ],
   "source": [
    "age = 18\n",
    "has_licsence = \"No\"\n",
    "if age>=18:\n",
    "    if has_licsence ==\"yes\":\n",
    "        print(\"You can drive\")\n",
    "    else:\n",
    "        print(\"Without licsence you can't drive\")\n",
    "else:\n",
    "    print(\"You are too young to drive\")"
   ]
  },
  {
   "cell_type": "code",
   "execution_count": 18,
   "id": "61736d26-85c8-4acf-ae7d-fc9fd4df41ad",
   "metadata": {},
   "outputs": [
    {
     "name": "stdout",
     "output_type": "stream",
     "text": [
      "Allowed to write exam\n"
     ]
    }
   ],
   "source": [
    "mark = 55\n",
    "attendance = 78\n",
    "if mark>=55 and attendance>=78:\n",
    "    print(\"Allowed to write exam\")\n",
    "else:\n",
    "    print(\"Not allowed to exam\")\n",
    "    "
   ]
  },
  {
   "cell_type": "code",
   "execution_count": 19,
   "id": "344b7c6d-035d-4ab1-84be-ddb713dad719",
   "metadata": {},
   "outputs": [
    {
     "name": "stdout",
     "output_type": "stream",
     "text": [
      "You don't have any discount\n"
     ]
    }
   ],
   "source": [
    "order_amount = 999\n",
    "days = \"saturday\"\n",
    "membership = \"no\"\n",
    "\n",
    "if(order_amount>=1000 and days in[\"saturday\",\"sunday\"]) or (membership==\"yes\"):\n",
    "    print(\"You have 25% discount\")\n",
    "else:\n",
    "    print(\"You don't have any discount\")"
   ]
  },
  {
   "cell_type": "code",
   "execution_count": null,
   "id": "fd637fa8-e680-4de5-9ea3-fd9e26dcae29",
   "metadata": {},
   "outputs": [],
   "source": []
  },
  {
   "cell_type": "code",
   "execution_count": null,
   "id": "fa508f5a-854d-457a-b93a-fd10e04d27cd",
   "metadata": {},
   "outputs": [],
   "source": []
  }
 ],
 "metadata": {
  "kernelspec": {
   "display_name": "Python [conda env:base] *",
   "language": "python",
   "name": "conda-base-py"
  },
  "language_info": {
   "codemirror_mode": {
    "name": "ipython",
    "version": 3
   },
   "file_extension": ".py",
   "mimetype": "text/x-python",
   "name": "python",
   "nbconvert_exporter": "python",
   "pygments_lexer": "ipython3",
   "version": "3.13.5"
  },
  "widgets": {
   "application/vnd.jupyter.widget-state+json": {
    "state": {},
    "version_major": 2,
    "version_minor": 0
   }
  }
 },
 "nbformat": 4,
 "nbformat_minor": 5
}
