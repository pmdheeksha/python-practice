{
 "cells": [
  {
   "cell_type": "markdown",
   "id": "f7e00c44-4faa-459a-b05c-f5e0ae05a95c",
   "metadata": {},
   "source": [
    "Single Inheritance"
   ]
  },
  {
   "cell_type": "code",
   "execution_count": 6,
   "id": "626160f8-4c23-43a5-82b7-b24c35309303",
   "metadata": {},
   "outputs": [
    {
     "name": "stdout",
     "output_type": "stream",
     "text": [
      "Dad's mobile\n",
      "son's laptop\n"
     ]
    }
   ],
   "source": [
    "class dad():\n",
    "    def phone(self):\n",
    "        print(\"Dad's mobile\")\n",
    "        \n",
    "class son(dad):\n",
    "    def laptop(self):\n",
    "        print(\"son's laptop\")\n",
    "\n",
    "vithi = son()\n",
    "vithi.phone()\n",
    "vithi.laptop()\n"
   ]
  },
  {
   "cell_type": "code",
   "execution_count": 10,
   "id": "8c639163-6821-4557-8ecd-031d03a70c85",
   "metadata": {},
   "outputs": [
    {
     "name": "stdout",
     "output_type": "stream",
     "text": [
      "I have House\n",
      "I have factory\n"
     ]
    }
   ],
   "source": [
    "class dad():\n",
    "    def house(self):\n",
    "        print(\"I have House\")\n",
    "class son(dad):\n",
    "    def factory(self):\n",
    "        print(\"I have factory\")\n",
    "\n",
    "s1 = son()\n",
    "s1.house()\n",
    "s1.factory()"
   ]
  },
  {
   "cell_type": "code",
   "execution_count": 11,
   "id": "193800ae-4edb-4ba9-b491-3448a755c102",
   "metadata": {},
   "outputs": [
    {
     "name": "stdout",
     "output_type": "stream",
     "text": [
      "Orders\n",
      "Returns\n"
     ]
    }
   ],
   "source": [
    "class app1:\n",
    "    def v1(self):\n",
    "        print(\"Orders\")\n",
    "\n",
    "class app1_1(app1):\n",
    "    def v2(self):\n",
    "        print(\"Returns\")\n",
    "\n",
    "a = app1_1()\n",
    "a.v1()\n",
    "a.v2()"
   ]
  },
  {
   "cell_type": "code",
   "execution_count": 12,
   "id": "d4f07c0e-de9b-45af-bb86-6012e6c4acba",
   "metadata": {},
   "outputs": [
    {
     "name": "stdout",
     "output_type": "stream",
     "text": [
      "cart\n",
      "Returns\n"
     ]
    }
   ],
   "source": [
    "class app1:\n",
    "    def v1(self):\n",
    "        print(\"Orders\")\n",
    "\n",
    "class app1_1(app1):\n",
    "    def v2(self):\n",
    "        print(\"Returns\")\n",
    "    def v1(self):\n",
    "        print(\"cart\")#it overwrites bcoz they don't want orders\n",
    "\n",
    "a = app1_1()\n",
    "a.v1()\n",
    "a.v2()"
   ]
  },
  {
   "cell_type": "markdown",
   "id": "1f49cf20-eb62-48b2-91fe-14115353c5ba",
   "metadata": {},
   "source": [
    "Multiple Inheritance"
   ]
  },
  {
   "cell_type": "code",
   "execution_count": 2,
   "id": "ccfb982c-38f0-42e7-ac24-76a1e44f103b",
   "metadata": {},
   "outputs": [
    {
     "name": "stdout",
     "output_type": "stream",
     "text": [
      "Dad's mobile\n",
      "Mom's sweet\n",
      "son's laptop\n"
     ]
    }
   ],
   "source": [
    "\n",
    "class dad():\n",
    "    def phone(self):\n",
    "        print(\"Dad's mobile\")\n",
    "\n",
    "class mom():\n",
    "    def sweet(self):\n",
    "        print(\"Mom's sweet\")\n",
    "        \n",
    "class son(dad,mom):\n",
    "    def laptop(self):\n",
    "        print(\"son's laptop\")\n",
    "\n",
    "vithi = son()\n",
    "vithi.phone()\n",
    "vithi.sweet()\n",
    "vithi.laptop()\n"
   ]
  },
  {
   "cell_type": "markdown",
   "id": "ddd6452b-4f1b-4e52-8bf1-3a0dba80eafd",
   "metadata": {},
   "source": [
    "Multilevel Inheritance"
   ]
  },
  {
   "cell_type": "code",
   "execution_count": 3,
   "id": "84d89683-8ace-44aa-82d1-b04ab295d8c6",
   "metadata": {},
   "outputs": [
    {
     "name": "stdout",
     "output_type": "stream",
     "text": [
      "Son's laptop\n",
      "Daddy Phone\n",
      "Grandpa money\n",
      "Grandpa money\n"
     ]
    }
   ],
   "source": [
    "\n",
    "class grandpa():\n",
    "    def money(self):\n",
    "        print(\"Grandpa money\")\n",
    "\n",
    "class daddy(grandpa):\n",
    "    def phone(self):\n",
    "        print(\"Daddy Phone\")\n",
    "\n",
    "class son(daddy):\n",
    "    def laptop(self):\n",
    "        print(\"Son's laptop\")\n",
    "\n",
    "s1 = son()\n",
    "s1.laptop()\n",
    "s1.phone()\n",
    "s1.money()\n",
    "\n",
    "d1 = daddy()\n",
    "d1.money()"
   ]
  },
  {
   "cell_type": "markdown",
   "id": "b443181b-eb86-49eb-bed5-47cdaf5c7090",
   "metadata": {},
   "source": [
    "Hierachy Inheritance"
   ]
  },
  {
   "cell_type": "code",
   "execution_count": 4,
   "id": "36acac7c-cca8-4b4e-a067-a14d1270a583",
   "metadata": {},
   "outputs": [
    {
     "name": "stdout",
     "output_type": "stream",
     "text": [
      "Dad's money\n",
      "Dad's money\n"
     ]
    }
   ],
   "source": [
    "\n",
    "class dad():\n",
    "    def money(self):\n",
    "        print(\"Dad's money\")\n",
    "class son1(dad):\n",
    "    pass\n",
    "\n",
    "class son2(dad):\n",
    "    pass\n",
    "\n",
    "class son3(dad):\n",
    "    pass\n",
    "\n",
    "s2 = son2()\n",
    "s2.money()\n",
    "\n",
    "s3 = son3()\n",
    "s3.money()"
   ]
  },
  {
   "cell_type": "code",
   "execution_count": 14,
   "id": "4d69af0b-74a7-4983-aaae-6c9218100e68",
   "metadata": {},
   "outputs": [
    {
     "name": "stdout",
     "output_type": "stream",
     "text": [
      "Son1 factory\n",
      "Dad house yellow\n",
      "Son2 market\n",
      "Dad house blue\n"
     ]
    }
   ],
   "source": [
    "class dad:\n",
    "    def house(self):\n",
    "        print(\"Dad house\")\n",
    "\n",
    "class son1(dad):\n",
    "    def factory(self):\n",
    "        print(\"Son1 factory\")\n",
    "\n",
    "    def house(self):\n",
    "        print(\"Dad house yellow\")# overwrites dad house to for his wish color\n",
    "\n",
    "class son2(dad):\n",
    "    def market(self):\n",
    "        print(\"Son2 market\")\n",
    "\n",
    "    def house(self):\n",
    "        print(\"Dad house blue\")# overwrites dad house to for his wish color\n",
    "\n",
    "\n",
    "Mugun = son1()\n",
    "Mugun.factory()\n",
    "Mugun.house()\n",
    "\n",
    "Vithi = son2()\n",
    "Vithi.market()\n",
    "Vithi.house()\n"
   ]
  },
  {
   "cell_type": "code",
   "execution_count": null,
   "id": "d9fc9294-0960-4987-a4ea-cd8f79c2350d",
   "metadata": {},
   "outputs": [],
   "source": []
  }
 ],
 "metadata": {
  "kernelspec": {
   "display_name": "Python (your-env-name)",
   "language": "python",
   "name": "your-env-name"
  },
  "language_info": {
   "codemirror_mode": {
    "name": "ipython",
    "version": 3
   },
   "file_extension": ".py",
   "mimetype": "text/x-python",
   "name": "python",
   "nbconvert_exporter": "python",
   "pygments_lexer": "ipython3",
   "version": "3.13.5"
  },
  "widgets": {
   "application/vnd.jupyter.widget-state+json": {
    "state": {},
    "version_major": 2,
    "version_minor": 0
   }
  }
 },
 "nbformat": 4,
 "nbformat_minor": 5
}
