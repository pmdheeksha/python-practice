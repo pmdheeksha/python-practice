{
 "cells": [
  {
   "cell_type": "code",
   "execution_count": 1,
   "id": "c001f40c-8be2-4a86-be7c-57705b5ab7e7",
   "metadata": {},
   "outputs": [
    {
     "name": "stdout",
     "output_type": "stream",
     "text": [
      "{'name': 'Dheeksha', 'age': 20, 'location': 'Krishnagiri'}\n"
     ]
    }
   ],
   "source": [
    "a={\"name\":\"Dheeksha\",\n",
    "   \"age\":20,\n",
    "   \"location\":\"Krishnagiri\"\n",
    "   }\n",
    "print(a)"
   ]
  },
  {
   "cell_type": "code",
   "execution_count": 2,
   "id": "b5e40219-effa-4f24-b55a-0e2e906b5ef6",
   "metadata": {},
   "outputs": [
    {
     "name": "stdout",
     "output_type": "stream",
     "text": [
      "dict_keys(['name', 'age', 'location'])\n"
     ]
    }
   ],
   "source": [
    "a={\"name\":\"Dheeksha\",\n",
    "   \"age\":20,\n",
    "   \"location\":\"Krishnagiri\"\n",
    "   }\n",
    "print(a.keys())"
   ]
  },
  {
   "cell_type": "code",
   "execution_count": 3,
   "id": "28819acf-1292-429e-a8e6-af0b64cc98a3",
   "metadata": {},
   "outputs": [
    {
     "name": "stdout",
     "output_type": "stream",
     "text": [
      "{'name': 'Dheeksha', 'age': 19, 'location': 'Krishnagiri'}\n"
     ]
    }
   ],
   "source": [
    "a={\"name\":\"Dheeksha\",\n",
    "   \"age\":20,\n",
    "   \"location\":\"Krishnagiri\"\n",
    "   }\n",
    "a[\"age\"]=19\n",
    "print(a)"
   ]
  },
  {
   "cell_type": "code",
   "execution_count": 4,
   "id": "3e2ecc81-8258-4e72-8fa1-a8b358cf41fd",
   "metadata": {},
   "outputs": [
    {
     "name": "stdout",
     "output_type": "stream",
     "text": [
      "dict_values(['Dheeksha', 20, 'Krishnagiri'])\n"
     ]
    }
   ],
   "source": [
    "a={\"name\":\"Dheeksha\",\n",
    "   \"age\":20,\n",
    "   \"location\":\"Krishnagiri\"\n",
    "   }\n",
    "print(a.values())"
   ]
  },
  {
   "cell_type": "code",
   "execution_count": 5,
   "id": "a5d38f9c-daec-4419-8732-4b491cffb63b",
   "metadata": {},
   "outputs": [
    {
     "name": "stdout",
     "output_type": "stream",
     "text": [
      "{'name': 'Dheeksha', 'age': 20, 'location': 'Krishnagiri', 'color': '💛🩵'}\n"
     ]
    }
   ],
   "source": [
    "a={\"name\":\"Dheeksha\",\n",
    "   \"age\":20,\n",
    "   \"location\":\"Krishnagiri\"\n",
    "   }\n",
    "a[\"color\"]=\"💛🩵\"\n",
    "print(a)"
   ]
  },
  {
   "cell_type": "code",
   "execution_count": 6,
   "id": "9794b166-2b3a-497e-a2f9-ba590b966043",
   "metadata": {},
   "outputs": [
    {
     "name": "stdout",
     "output_type": "stream",
     "text": [
      "{'name': 'Dheeksha', 'location': 'Krishnagiri'}\n"
     ]
    }
   ],
   "source": [
    "a={\"name\":\"Dheeksha\",\n",
    "   \"age\":20,\n",
    "   \"location\":\"Krishnagiri\"\n",
    "   }\n",
    "a.pop(\"age\")\n",
    "print(a)"
   ]
  },
  {
   "cell_type": "code",
   "execution_count": 7,
   "id": "23dd441d-685c-42ea-8ece-61760b69b621",
   "metadata": {},
   "outputs": [
    {
     "ename": "NameError",
     "evalue": "name 'a' is not defined",
     "output_type": "error",
     "traceback": [
      "\u001b[31m---------------------------------------------------------------------------\u001b[39m",
      "\u001b[31mNameError\u001b[39m                                 Traceback (most recent call last)",
      "\u001b[36mCell\u001b[39m\u001b[36m \u001b[39m\u001b[32mIn[7]\u001b[39m\u001b[32m, line 6\u001b[39m\n\u001b[32m      1\u001b[39m a={\u001b[33m\"\u001b[39m\u001b[33mname\u001b[39m\u001b[33m\"\u001b[39m:\u001b[33m\"\u001b[39m\u001b[33mDheeksha\u001b[39m\u001b[33m\"\u001b[39m,\n\u001b[32m      2\u001b[39m    \u001b[33m\"\u001b[39m\u001b[33mage\u001b[39m\u001b[33m\"\u001b[39m:\u001b[32m20\u001b[39m,\n\u001b[32m      3\u001b[39m    \u001b[33m\"\u001b[39m\u001b[33mlocation\u001b[39m\u001b[33m\"\u001b[39m:\u001b[33m\"\u001b[39m\u001b[33mKrishnagiri\u001b[39m\u001b[33m\"\u001b[39m\n\u001b[32m      4\u001b[39m    }\n\u001b[32m      5\u001b[39m \u001b[38;5;28;01mdel\u001b[39;00m a\n\u001b[32m----> \u001b[39m\u001b[32m6\u001b[39m \u001b[38;5;28mprint\u001b[39m(\u001b[43ma\u001b[49m)\n",
      "\u001b[31mNameError\u001b[39m: name 'a' is not defined"
     ]
    }
   ],
   "source": [
    "a={\"name\":\"Dheeksha\",\n",
    "   \"age\":20,\n",
    "   \"location\":\"Krishnagiri\"\n",
    "   }\n",
    "del a\n",
    "print(a)"
   ]
  },
  {
   "cell_type": "code",
   "execution_count": 8,
   "id": "b1700278-d089-4b5a-8079-041cc9eddac2",
   "metadata": {},
   "outputs": [
    {
     "name": "stdout",
     "output_type": "stream",
     "text": [
      "{'trip_id': 'UB12345', 'pickup': 'Chennai central', 'drop': 'Airport', 'fare': 430.5, 'driver': 'ravi', 'status': 'Completed'}\n"
     ]
    }
   ],
   "source": [
    "trip = {\n",
    "    \"trip_id\": \"UB12345\",\n",
    "    \"pickup\":\"Chennai central\",\n",
    "    \"drop\":\"Airport\",\n",
    "    \"fare\":430.50,\n",
    "    \"driver\":\"ravi\",\n",
    "    \"status\":\"Completed\"\n",
    "}\n",
    "print(trip)\n",
    "    "
   ]
  },
  {
   "cell_type": "code",
   "execution_count": 9,
   "id": "d534bbb5-ea72-41f1-ab7a-d5a97ffda218",
   "metadata": {},
   "outputs": [
    {
     "name": "stdout",
     "output_type": "stream",
     "text": [
      "Chennai central\n"
     ]
    }
   ],
   "source": [
    "trip = {\n",
    "    \"trip_id\": \"UB12345\",\n",
    "    \"pickup\":\"Chennai central\",\n",
    "    \"drop\":\"Airport\",\n",
    "    \"fare\":430.50,\n",
    "    \"driver\":\"ravi\",\n",
    "    \"status\":\"Completed\"\n",
    "}\n",
    "print(trip[\"pickup\"])#access only checks the key and value"
   ]
  },
  {
   "cell_type": "code",
   "execution_count": 10,
   "id": "5bc5829a-bd78-4fbf-b62a-f64849d77309",
   "metadata": {},
   "outputs": [
    {
     "name": "stdout",
     "output_type": "stream",
     "text": [
      "UB12345\n",
      "None\n"
     ]
    }
   ],
   "source": [
    "trip = {\n",
    "    \"trip_id\": \"UB12345\",\n",
    "    \"pickup\":\"Chennai central\",\n",
    "    \"drop\":\"Airport\",\n",
    "    \"fare\":430.50,\n",
    "    \"driver\":\"ravi\",\n",
    "    \"status\":\"Completed\"\n",
    "}\n",
    "print(trip.get(\"trip_id\"))\n",
    "print(trip.get(\"UB12345\"))\n",
    "    "
   ]
  },
  {
   "cell_type": "code",
   "execution_count": 11,
   "id": "867cfc2a-4d51-49b8-ba91-72c71cab950b",
   "metadata": {},
   "outputs": [
    {
     "name": "stdout",
     "output_type": "stream",
     "text": [
      "trip_id:UB12345\n",
      "pickup:Chennai central\n",
      "drop:Airport\n",
      "fare:430.5\n",
      "driver:ravi\n",
      "status:Completed\n"
     ]
    }
   ],
   "source": [
    "trip = {\n",
    "    \"trip_id\": \"UB12345\",\n",
    "    \"pickup\":\"Chennai central\",\n",
    "    \"drop\":\"Airport\",\n",
    "    \"fare\":430.50,\n",
    "    \"driver\":\"ravi\",\n",
    "    \"status\":\"Completed\"\n",
    "}\n",
    "for key,value in trip.items():\n",
    "    print(f\"{key}:{value}\")\n",
    "    "
   ]
  },
  {
   "cell_type": "code",
   "execution_count": 1,
   "id": "8d52015c-8d90-41e1-b926-5491a4e9364d",
   "metadata": {},
   "outputs": [
    {
     "name": "stdout",
     "output_type": "stream",
     "text": [
      "{'trip_id': 'UB12345', 'pickup': 'Chennai central', 'drop': 'Airport', 'fare': 430.5, 'driver': 'ravi', 'status': 'Completed', 'car_mode': 'Tata Nexon'}\n"
     ]
    }
   ],
   "source": [
    "trip = {\n",
    "    \"trip_id\": \"UB12345\",\n",
    "    \"pickup\":\"Chennai central\",\n",
    "    \"drop\":\"Airport\",\n",
    "    \"fare\":430.50,\n",
    "    \"driver\":\"ravi\",\n",
    "    \"status\":\"Completed\"\n",
    "}\n",
    "trip.update({\"car_mode\":\"Tata Nexon\"})\n",
    "print(trip)\n",
    "    "
   ]
  },
  {
   "cell_type": "code",
   "execution_count": 13,
   "id": "611cb3fd-4bf2-44c9-a6c5-5622f6dccbf5",
   "metadata": {},
   "outputs": [
    {
     "name": "stdout",
     "output_type": "stream",
     "text": [
      "{'trip_id': 'UB12345', 'pickup': 'Airhub Mall', 'drop': 'Airport', 'fare': 430.5, 'driver': 'ravi', 'status': 'Completed'}\n"
     ]
    }
   ],
   "source": [
    "trip = {\n",
    "    \"trip_id\": \"UB12345\",\n",
    "    \"pickup\":\"Chennai central\",\n",
    "    \"drop\":\"Airport\",\n",
    "    \"fare\":430.50,\n",
    "    \"driver\":\"ravi\",\n",
    "    \"status\":\"Completed\"\n",
    "}\n",
    "trip.update({\"pickup\":\"Airhub Mall\"})\n",
    "\n",
    "print(trip)"
   ]
  },
  {
   "cell_type": "code",
   "execution_count": 14,
   "id": "1ef29032-aa5a-4839-8f99-5bc41dfe0c27",
   "metadata": {},
   "outputs": [
    {
     "name": "stdout",
     "output_type": "stream",
     "text": [
      "{'trip_id': 'UB12345', 'pickup': 'Chennai central', 'drop': ['Airport', 'Airohub Mall', 'Railway Station'], 'fare': 430.5, 'driver': 'ravi', 'status': 'Completed'}\n"
     ]
    }
   ],
   "source": [
    "trip = {\n",
    "    \"trip_id\": \"UB12345\",\n",
    "    \"pickup\":\"Chennai central\",\n",
    "    \"drop\":[\"Airport\",\"Airohub Mall\",\"Railway Station\"],\n",
    "    \"fare\":430.50,\n",
    "    \"driver\":\"ravi\",\n",
    "    \"status\":\"Completed\"\n",
    "}\n",
    "print(trip)\n"
   ]
  },
  {
   "cell_type": "code",
   "execution_count": 15,
   "id": "1a910acd-d2fb-48f0-93b1-cdd4f32a5092",
   "metadata": {},
   "outputs": [
    {
     "name": "stdout",
     "output_type": "stream",
     "text": [
      "Airohub Mall\n"
     ]
    }
   ],
   "source": [
    "trip = {\n",
    "    \"trip_id\": \"UB12345\",\n",
    "    \"pickup\":\"Chennai central\",\n",
    "    \"drop\":[\"Airport\",\"Airohub Mall\",\"Railway Station\"],\n",
    "    \"fare\":430.50,\n",
    "    \"driver\":\"ravi\",\n",
    "    \"status\":\"Completed\"\n",
    "}\n",
    "print(trip[\"drop\"][1])\n"
   ]
  },
  {
   "cell_type": "code",
   "execution_count": 16,
   "id": "5f7d42db-63d9-442a-83b3-56810a6203e2",
   "metadata": {},
   "outputs": [
    {
     "name": "stdout",
     "output_type": "stream",
     "text": [
      "Airport\n",
      "Airohub Mall\n",
      "Railway Station\n"
     ]
    }
   ],
   "source": [
    "trip = {\n",
    "    \"trip_id\": \"UB12345\",\n",
    "    \"pickup\":\"Chennai central\",\n",
    "    \"drop\":[\"Airport\",\"Airohub Mall\",\"Railway Station\"],\n",
    "    \"fare\":430.50,\n",
    "    \"driver\":\"ravi\",\n",
    "    \"status\":\"Completed\"\n",
    "}\n",
    "for location in trip[\"drop\"]:\n",
    "    print(location)\n"
   ]
  },
  {
   "cell_type": "code",
   "execution_count": 7,
   "id": "e1d384af-7e54-4fc4-a3e1-ec9410c6287b",
   "metadata": {},
   "outputs": [
    {
     "name": "stdout",
     "output_type": "stream",
     "text": [
      "Name:Baby\n",
      "Age:20\n",
      "fav_col:🩷,💜,🩵\n",
      "Emoji:🐼\n"
     ]
    }
   ],
   "source": [
    "kolandha={\n",
    "    \"Name\":\"Baby\",\n",
    "    \"Age\":20,\n",
    "    \"fav_col\":\"🩷,💜,🩵\",\n",
    "    \"Emoji\":\"🐼\"\n",
    "}\n",
    "for key,value in kolandha.items():\n",
    "    print(f\"{key}:{value}\")\n",
    "    "
   ]
  },
  {
   "cell_type": "code",
   "execution_count": null,
   "id": "fcd2c48c-b1fe-42db-ba0f-8ec49db86da0",
   "metadata": {},
   "outputs": [],
   "source": []
  }
 ],
 "metadata": {
  "kernelspec": {
   "display_name": "Python [conda env:base] *",
   "language": "python",
   "name": "conda-base-py"
  },
  "language_info": {
   "codemirror_mode": {
    "name": "ipython",
    "version": 3
   },
   "file_extension": ".py",
   "mimetype": "text/x-python",
   "name": "python",
   "nbconvert_exporter": "python",
   "pygments_lexer": "ipython3",
   "version": "3.13.5"
  },
  "widgets": {
   "application/vnd.jupyter.widget-state+json": {
    "state": {},
    "version_major": 2,
    "version_minor": 0
   }
  }
 },
 "nbformat": 4,
 "nbformat_minor": 5
}
