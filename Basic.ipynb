{
 "cells": [
  {
   "cell_type": "code",
   "execution_count": 1,
   "id": "03b53c87-4f4c-45f0-9151-45dfd45eeb68",
   "metadata": {},
   "outputs": [
    {
     "name": "stdout",
     "output_type": "stream",
     "text": [
      "30\n"
     ]
    }
   ],
   "source": [
    "a = 10\n",
    "b = 20\n",
    "print(a+b)\n",
    "# storing values in variable"
   ]
  },
  {
   "cell_type": "code",
   "execution_count": 2,
   "id": "1c88eee9-9ff9-438e-b88a-3075f8ab74e0",
   "metadata": {},
   "outputs": [
    {
     "name": "stdout",
     "output_type": "stream",
     "text": [
      "<class 'int'>\n",
      "<class 'str'>\n"
     ]
    }
   ],
   "source": [
    "#data type\n",
    "a = 10\n",
    "print(type(a))\n",
    "\n",
    "b = \"Milky\"\n",
    "print(type(b))"
   ]
  },
  {
   "cell_type": "code",
   "execution_count": 3,
   "id": "7dbc3b4a-5e08-42c9-8752-d1df567ac56a",
   "metadata": {},
   "outputs": [
    {
     "name": "stdout",
     "output_type": "stream",
     "text": [
      "1020\n",
      "30\n"
     ]
    }
   ],
   "source": [
    "#casting = converting one data type into another data type\n",
    "a = \"10\"\n",
    "b = \"20\"\n",
    "c = a+b\n",
    "print(c)\n",
    "\n",
    "a = int(\"10\")\n",
    "b = int(\"20\")\n",
    "c = a+b\n",
    "print(c)\n",
    "\n"
   ]
  },
  {
   "cell_type": "code",
   "execution_count": 4,
   "id": "888a04f7-6e9b-494a-955a-91e950aa6e49",
   "metadata": {},
   "outputs": [
    {
     "name": "stdin",
     "output_type": "stream",
     "text": [
      " 2\n",
      " 5\n"
     ]
    },
    {
     "name": "stdout",
     "output_type": "stream",
     "text": [
      "7\n"
     ]
    }
   ],
   "source": [
    "# getting input from user\n",
    "a = int(input())\n",
    "b = int(input())\n",
    "c = (a+b)\n",
    "print(c)"
   ]
  },
  {
   "cell_type": "code",
   "execution_count": 11,
   "id": "286b71e6-e21d-41f8-a099-ebb5aae560fb",
   "metadata": {},
   "outputs": [
    {
     "name": "stdout",
     "output_type": "stream",
     "text": [
      "<class 'str'>\n",
      "<class 'int'>\n",
      "<class 'float'>\n",
      "<class 'bool'>\n",
      "<class 'list'>\n",
      "<class 'tuple'>\n",
      "<class 'set'>\n",
      "<class 'dict'>\n"
     ]
    }
   ],
   "source": [
    "# data type\n",
    "name = \"Dheeksha\"\n",
    "age = 20\n",
    "mark = 90.9\n",
    "is_std = True\n",
    "lpy=[1,2,3,\"Hi\"]\n",
    "tpy=(15,10,4,1,\"💛🩵\")\n",
    "spy={1,2,3,\"DS\",\"DMVS\"}\n",
    "dpy={\"Name\":\"Milky\"}\n",
    "print(type (name))\n",
    "print(type (age))\n",
    "print(type (mark))\n",
    "print(type (is_std))\n",
    "print(type (lpy))\n",
    "print(type (tpy))\n",
    "print(type (spy))\n",
    "print(type (dpy))\n",
    "\n",
    "\n"
   ]
  },
  {
   "cell_type": "code",
   "execution_count": null,
   "id": "55f86c7e-1b82-4e3d-9f40-560521324ee6",
   "metadata": {},
   "outputs": [],
   "source": []
  }
 ],
 "metadata": {
  "kernelspec": {
   "display_name": "Python [conda env:base] *",
   "language": "python",
   "name": "conda-base-py"
  },
  "language_info": {
   "codemirror_mode": {
    "name": "ipython",
    "version": 3
   },
   "file_extension": ".py",
   "mimetype": "text/x-python",
   "name": "python",
   "nbconvert_exporter": "python",
   "pygments_lexer": "ipython3",
   "version": "3.13.5"
  },
  "widgets": {
   "application/vnd.jupyter.widget-state+json": {
    "state": {},
    "version_major": 2,
    "version_minor": 0
   }
  }
 },
 "nbformat": 4,
 "nbformat_minor": 5
}
