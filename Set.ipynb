{
 "cells": [
  {
   "cell_type": "code",
   "execution_count": 1,
   "id": "db0854be-5129-4d0d-8dd2-ee7a9462e8cd",
   "metadata": {},
   "outputs": [
    {
     "name": "stdout",
     "output_type": "stream",
     "text": [
      "{16, 11, 12, 13, 14, 15}\n"
     ]
    }
   ],
   "source": [
    "a = {11,12,13,14,15}\n",
    "a.add(16)# add in the first \n",
    "print(a)"
   ]
  },
  {
   "cell_type": "code",
   "execution_count": 2,
   "id": "9acec204-5d47-496b-bc71-f624fe927f0a",
   "metadata": {},
   "outputs": [
    {
     "name": "stdout",
     "output_type": "stream",
     "text": [
      "{11, 12, 14, 15}\n"
     ]
    }
   ],
   "source": [
    "a = {11,12,13,14,15}\n",
    "a.remove(13)#the given number will remove\n",
    "print(a)"
   ]
  },
  {
   "cell_type": "code",
   "execution_count": 3,
   "id": "fc11f5e2-8a8a-46e5-b088-caf949a44191",
   "metadata": {},
   "outputs": [
    {
     "name": "stdout",
     "output_type": "stream",
     "text": [
      "{12, 13, 14, 15}\n"
     ]
    }
   ],
   "source": [
    "a = {11,12,13,14,15}\n",
    "a.pop()\n",
    "print(a)"
   ]
  },
  {
   "cell_type": "code",
   "execution_count": 4,
   "id": "63d20fdd-5347-4317-b35f-5b111594475f",
   "metadata": {},
   "outputs": [
    {
     "name": "stdout",
     "output_type": "stream",
     "text": [
      "{16, 17, 18, 11, 12, 13, 14, 15}\n"
     ]
    }
   ],
   "source": [
    "a = {11,12,13,14,15}\n",
    "a.update([16,17,18])\n",
    "print(a)"
   ]
  },
  {
   "cell_type": "code",
   "execution_count": 5,
   "id": "e91a6faa-24fe-4c24-ad4f-a89f19656565",
   "metadata": {},
   "outputs": [
    {
     "name": "stdout",
     "output_type": "stream",
     "text": [
      "{11, 12, 13, 14, 15, 23, 24}\n"
     ]
    }
   ],
   "source": [
    "a = {11,12,13,14,15}\n",
    "b = {11,23,15,12,24}\n",
    "\n",
    "print(a.union(b))#union combine 2 sets"
   ]
  },
  {
   "cell_type": "code",
   "execution_count": 6,
   "id": "d29cc145-a58f-4dba-afba-5dc3838dc31c",
   "metadata": {},
   "outputs": [
    {
     "name": "stdout",
     "output_type": "stream",
     "text": [
      "{11, 12, 15}\n"
     ]
    }
   ],
   "source": [
    "a = {11,12,13,14,15}\n",
    "b = {11,23,15,12,24}\n",
    "print(a.intersection(b))#intersection gives the common value in both set"
   ]
  },
  {
   "cell_type": "code",
   "execution_count": 7,
   "id": "01cbc963-ad3f-41b6-85f7-68dae125e2af",
   "metadata": {},
   "outputs": [
    {
     "name": "stdout",
     "output_type": "stream",
     "text": [
      "{13, 14}\n"
     ]
    }
   ],
   "source": [
    "a = {11,12,13,14,15}\n",
    "b = {11,23,15,12,24}\n",
    "print(a.difference(b))#difference give uncommon element that in set a only not in set b"
   ]
  },
  {
   "cell_type": "code",
   "execution_count": 8,
   "id": "1ff35b13-2cc0-47cf-bedb-69b636acda47",
   "metadata": {},
   "outputs": [
    {
     "name": "stdout",
     "output_type": "stream",
     "text": [
      "{24, 23}\n"
     ]
    }
   ],
   "source": [
    "a = {11,12,13,14,15}\n",
    "b = {11,23,15,12,24}\n",
    "print(b.difference(a))"
   ]
  },
  {
   "cell_type": "code",
   "execution_count": 9,
   "id": "e13ee89d-7253-492f-8525-14226abc70cd",
   "metadata": {},
   "outputs": [
    {
     "name": "stdout",
     "output_type": "stream",
     "text": [
      "{'Bangalore', 'Chennai', 'Hydrabad', 'Delhi'}\n"
     ]
    }
   ],
   "source": [
    "uber_cites = {\"Chennai\",\"Bangalore\",\"Delhi\",\"Hydrabad\",\"Chennai\",\"Bangalore\"}\n",
    "print(uber_cites)"
   ]
  },
  {
   "cell_type": "code",
   "execution_count": 10,
   "id": "78d0a5a0-39f9-44c4-830d-078a5fdb7864",
   "metadata": {},
   "outputs": [
    {
     "name": "stdout",
     "output_type": "stream",
     "text": [
      "{'Chennai', 'Hydrabad', 'Delhi', 'Bangalore', 'Jammu', 'Mumbai'}\n"
     ]
    }
   ],
   "source": [
    "uber_cites1 = {\"Chennai\",\"Bangalore\",\"Delhi\",\"Hydrabad\",\"Chennai\",\"Bangalore\"}\n",
    "uber_cites2 = {\"Mumbai\",\"Jammu\",\"Delhi\"}\n",
    "print(uber_cites1.union(uber_cites2))"
   ]
  },
  {
   "cell_type": "code",
   "execution_count": 11,
   "id": "292d21bc-badb-48f9-8e5b-87052c495487",
   "metadata": {},
   "outputs": [
    {
     "name": "stdout",
     "output_type": "stream",
     "text": [
      "{'Delhi'}\n"
     ]
    }
   ],
   "source": [
    "uber_cites1 = {\"Chennai\",\"Bangalore\",\"Delhi\",\"Hydrabad\",\"Chennai\",\"Bangalore\"}\n",
    "uber_cites2 = {\"Mumbai\",\"Jammu\",\"Delhi\"}\n",
    "print(uber_cites1.intersection(uber_cites2))"
   ]
  },
  {
   "cell_type": "code",
   "execution_count": 12,
   "id": "b81823d8-c723-4846-9d7e-22bb80f917c7",
   "metadata": {},
   "outputs": [
    {
     "name": "stdout",
     "output_type": "stream",
     "text": [
      "{'Bangalore', 'Chennai', 'Hydrabad'}\n"
     ]
    }
   ],
   "source": [
    "uber_cites1 = {\"Chennai\",\"Bangalore\",\"Delhi\",\"Hydrabad\",\"Chennai\",\"Bangalore\"}\n",
    "uber_cites2 = {\"Mumbai\",\"Jammu\",\"Delhi\"}\n",
    "print(uber_cites1.difference(uber_cites2))"
   ]
  },
  {
   "cell_type": "code",
   "execution_count": 13,
   "id": "ae1a7de5-0113-41f6-b9fb-84bf4d8c41c1",
   "metadata": {},
   "outputs": [
    {
     "name": "stdout",
     "output_type": "stream",
     "text": [
      "{'Mumbai', 'Jammu'}\n"
     ]
    }
   ],
   "source": [
    "uber_cites1 = {\"Chennai\",\"Bangalore\",\"Delhi\",\"Hydrabad\",\"Chennai\",\"Bangalore\"}\n",
    "uber_cites2 = {\"Mumbai\",\"Jammu\",\"Delhi\"}\n",
    "print(uber_cites2.difference(uber_cites1))"
   ]
  },
  {
   "cell_type": "code",
   "execution_count": 14,
   "id": "6a98f2ea-03a7-4264-bd7a-e8c68bbea0d3",
   "metadata": {},
   "outputs": [
    {
     "name": "stdout",
     "output_type": "stream",
     "text": [
      "{'Chennai', 'Jaipur', 'Hydrabad', 'Delhi', 'Bangalore'}\n"
     ]
    }
   ],
   "source": [
    "uber_cites1 = {\"Chennai\",\"Bangalore\",\"Delhi\",\"Hydrabad\",\"Chennai\",\"Bangalore\"}\n",
    "\n",
    "uber_cites1.add(\"Jaipur\")\n",
    "print(uber_cites1)"
   ]
  },
  {
   "cell_type": "code",
   "execution_count": 15,
   "id": "ec390bd0-7385-447a-959d-73b1f9c5be9e",
   "metadata": {},
   "outputs": [
    {
     "name": "stdout",
     "output_type": "stream",
     "text": [
      "{'Bangalore', 'Hydrabad', 'Delhi'}\n"
     ]
    }
   ],
   "source": [
    "uber_cites1 = {\"Chennai\",\"Bangalore\",\"Delhi\",\"Hydrabad\",\"Chennai\",}\n",
    "uber_cites1.remove(\"Chennai\")\n",
    "print(uber_cites1)"
   ]
  },
  {
   "cell_type": "code",
   "execution_count": 16,
   "id": "748a441e-9abf-42b5-bfce-1385c0f3e7b5",
   "metadata": {},
   "outputs": [
    {
     "name": "stdout",
     "output_type": "stream",
     "text": [
      "{1, 2, 3}\n",
      "{99, 1, 3}\n"
     ]
    }
   ],
   "source": [
    "my_set = {1,2,3}\n",
    "print(my_set) \n",
    "my_set.remove(2)\n",
    "my_set.add(99)\n",
    "print(my_set)"
   ]
  },
  {
   "cell_type": "code",
   "execution_count": 17,
   "id": "a0d01317-ccf1-4488-8f3a-9f76920643b8",
   "metadata": {},
   "outputs": [
    {
     "name": "stdout",
     "output_type": "stream",
     "text": [
      "{1, 2, 3}\n",
      "{1, 2, 3}\n"
     ]
    }
   ],
   "source": [
    "my_set = {1,2,3}\n",
    "print(my_set) \n",
    "my_set.discard(8)#if their is no number \n",
    "\n",
    "print(my_set) "
   ]
  },
  {
   "cell_type": "code",
   "execution_count": null,
   "id": "ba7194d6-ddc8-49bc-9ebb-ddb1438bde25",
   "metadata": {},
   "outputs": [],
   "source": []
  }
 ],
 "metadata": {
  "kernelspec": {
   "display_name": "Python [conda env:base] *",
   "language": "python",
   "name": "conda-base-py"
  },
  "language_info": {
   "codemirror_mode": {
    "name": "ipython",
    "version": 3
   },
   "file_extension": ".py",
   "mimetype": "text/x-python",
   "name": "python",
   "nbconvert_exporter": "python",
   "pygments_lexer": "ipython3",
   "version": "3.13.5"
  },
  "widgets": {
   "application/vnd.jupyter.widget-state+json": {
    "state": {},
    "version_major": 2,
    "version_minor": 0
   }
  }
 },
 "nbformat": 4,
 "nbformat_minor": 5
}
