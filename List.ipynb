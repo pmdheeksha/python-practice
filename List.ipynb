{
 "cells": [
  {
   "cell_type": "code",
   "execution_count": 1,
   "id": "63ef9c9d-c1a9-4948-b4e3-b6cad5cb2be4",
   "metadata": {},
   "outputs": [
    {
     "name": "stdout",
     "output_type": "stream",
     "text": [
      "[15, 40, 50, 675]\n"
     ]
    }
   ],
   "source": [
    "a = [15,40,50,675]\n",
    "print(a)"
   ]
  },
  {
   "cell_type": "code",
   "execution_count": 2,
   "id": "2f4971e8-6850-4b5d-b1eb-0f93d9e168cd",
   "metadata": {},
   "outputs": [
    {
     "name": "stdout",
     "output_type": "stream",
     "text": [
      "[15, 40, 50, 675, 1000]\n"
     ]
    }
   ],
   "source": [
    "a = [15,40,50,675]\n",
    "a.append(1000)   #append is add element at last\n",
    "print(a)"
   ]
  },
  {
   "cell_type": "code",
   "execution_count": 3,
   "id": "ca246bc6-1e71-4720-9b93-381e943c255e",
   "metadata": {},
   "outputs": [
    {
     "name": "stdout",
     "output_type": "stream",
     "text": [
      "[15, 40, 50, 675, 1000, 'vidhi']\n"
     ]
    }
   ],
   "source": [
    "a = [15,40,50,675,1000]\n",
    "a.append(\"vidhi\")   #append is add element at last and also any data type\n",
    "print(a)"
   ]
  },
  {
   "cell_type": "code",
   "execution_count": 4,
   "id": "98074bd1-8939-4bcc-aeb4-4d640133e2d5",
   "metadata": {},
   "outputs": [
    {
     "name": "stdout",
     "output_type": "stream",
     "text": [
      "[15, 40, 50, 675, 15]\n"
     ]
    }
   ],
   "source": [
    "a = [15,40,50,675]\n",
    "a.append(15)#allow duplicate\n",
    "print(a)"
   ]
  },
  {
   "cell_type": "code",
   "execution_count": 5,
   "id": "50fbe942-2bcb-4d20-9bbe-0529fc2c324e",
   "metadata": {},
   "outputs": [
    {
     "name": "stdout",
     "output_type": "stream",
     "text": [
      "50\n"
     ]
    }
   ],
   "source": [
    "a = [15,40,50,675]\n",
    "print(a[2])"
   ]
  },
  {
   "cell_type": "code",
   "execution_count": 6,
   "id": "cefd4832-954b-4ad2-82d7-9a7f4d532a33",
   "metadata": {},
   "outputs": [
    {
     "name": "stdout",
     "output_type": "stream",
     "text": [
      "[15, 37, 40, 50, 675]\n"
     ]
    }
   ],
   "source": [
    "a = [15,40,50,675]\n",
    "a.insert(1,37) #insert is adding element in given position\n",
    "print(a)"
   ]
  },
  {
   "cell_type": "code",
   "execution_count": 7,
   "id": "cbd7a374-5b85-4e4e-97bc-c8a43e484cc2",
   "metadata": {},
   "outputs": [
    {
     "name": "stdout",
     "output_type": "stream",
     "text": [
      "[15, 94, 50, 675]\n"
     ]
    }
   ],
   "source": [
    "a = [15,40,50,675]\n",
    "a[1] = 94\n",
    "print(a)"
   ]
  },
  {
   "cell_type": "code",
   "execution_count": 8,
   "id": "e73e03bc-fb37-4bb4-ad3c-adb74e74b217",
   "metadata": {},
   "outputs": [
    {
     "name": "stdout",
     "output_type": "stream",
     "text": [
      "[15, 40, 50, 56, 76, 84]\n"
     ]
    }
   ],
   "source": [
    "a = [15,40,50,56,76,84,675]\n",
    "a.pop() # pop() delete last element\n",
    "print(a)"
   ]
  },
  {
   "cell_type": "code",
   "execution_count": 9,
   "id": "873c204f-3bf2-4076-85e4-5b755a95e167",
   "metadata": {},
   "outputs": [
    {
     "name": "stdout",
     "output_type": "stream",
     "text": [
      "[15, 40, 50, 76, 84, 675]\n"
     ]
    }
   ],
   "source": [
    "a = [15,40,50,56,76,84,675]\n",
    "a.pop(3) # pop(3) with value check the range and it delete the range\n",
    "print(a)"
   ]
  },
  {
   "cell_type": "code",
   "execution_count": 10,
   "id": "53bb3318-4ee1-4581-bde0-0014a18b9d75",
   "metadata": {},
   "outputs": [
    {
     "name": "stdout",
     "output_type": "stream",
     "text": [
      "[1, 2, 3, 4, 5, 11, 12, 13, 14, 15]\n"
     ]
    }
   ],
   "source": [
    "a = [1,2,3,4,5]\n",
    "b = [11,12,13,14,15]\n",
    "a.extend(b)#extend add two list\n",
    "print(a)\n"
   ]
  },
  {
   "cell_type": "code",
   "execution_count": 11,
   "id": "7225f415-ed68-4204-bc43-8adf1f6595b6",
   "metadata": {},
   "outputs": [
    {
     "name": "stdout",
     "output_type": "stream",
     "text": [
      "[11, 12, 13, 14, 15, 1, 2, 3, 4, 5]\n"
     ]
    }
   ],
   "source": [
    "a = [1,2,3,4,5]\n",
    "b = [11,12,13,14,15]\n",
    "b.extend(a)\n",
    "print(b)"
   ]
  },
  {
   "cell_type": "code",
   "execution_count": 1,
   "id": "9a1d6962-d201-4100-8c40-87d0457a709e",
   "metadata": {},
   "outputs": [
    {
     "name": "stdout",
     "output_type": "stream",
     "text": [
      "[12, 15, 34, 56, 75, 78, 98]\n"
     ]
    }
   ],
   "source": [
    "a = [75,98,34,56,12,15,78]\n",
    "a.sort() #arrange in assending order\n",
    "print(a)"
   ]
  },
  {
   "cell_type": "code",
   "execution_count": 13,
   "id": "3aba9847-2a84-4888-a2ea-b309bd56f726",
   "metadata": {},
   "outputs": [
    {
     "name": "stdout",
     "output_type": "stream",
     "text": [
      "[10, 30.4]\n"
     ]
    }
   ],
   "source": [
    "a = [10,30.40]\n",
    "print(a)"
   ]
  },
  {
   "cell_type": "code",
   "execution_count": 14,
   "id": "c136675e-28fa-4d5e-94e7-8ccb9da8e733",
   "metadata": {},
   "outputs": [
    {
     "name": "stdout",
     "output_type": "stream",
     "text": [
      "Spotify_playlist: ['Shape of love', 'Yaro ivan', 'Nenje nenje', 'Believer']\n",
      "Zomota_order: ['Burger', 'Fried chicken', 'Mutton Briyani', 'Egg kari']\n",
      "Uber_location: ['Home', 'Airport', 'Work', 'Mall']\n"
     ]
    }
   ],
   "source": [
    "playlist = [\"Shape of love\",\"Yaro ivan\",\"Nenje nenje\",\"Believer\"]\n",
    "fav_food = [\"Burger\",\"Fried chicken\",\"Mutton Briyani\",\"Egg kari\"]\n",
    "recent_location = [\"Home\",\"Airport\",\"Work\",\"Mall\"]\n",
    "\n",
    "print(f\"Spotify_playlist: {playlist}\")\n",
    "print(f\"Zomota_order: {fav_food}\")\n",
    "print(f\"Uber_location: {recent_location}\")"
   ]
  },
  {
   "cell_type": "code",
   "execution_count": 15,
   "id": "f3ea3746-d6db-4823-9417-90d22390d696",
   "metadata": {},
   "outputs": [
    {
     "name": "stdout",
     "output_type": "stream",
     "text": [
      "['Shape of love', 'Yaro ivan', 'Nenje nenje', 'Believer', 'Unn viligalil']\n",
      "['Burger', 'Egg kari', 'Fried chicken', 'Mutton Briyani']\n",
      "['Home', 'Airport', 'Beach', 'Work', 'Mall']\n",
      "['Yaro ivan', 'Nenje nenje', 'Believer', 'Unn viligalil']\n",
      "['Mutton Briyani', 'Fried chicken', 'Egg kari', 'Burger']\n",
      "1\n"
     ]
    }
   ],
   "source": [
    "playlist = [\"Shape of love\",\"Yaro ivan\",\"Nenje nenje\",\"Believer\"]\n",
    "fav_food = [\"Burger\",\"Fried chicken\",\"Mutton Briyani\",\"Egg kari\"]\n",
    "recent_location = [\"Home\",\"Airport\",\"Work\",\"Mall\"]\n",
    "\n",
    "\n",
    "playlist.append(\"Unn viligalil\")\n",
    "print(playlist)\n",
    "fav_food.sort()\n",
    "print(fav_food)\n",
    "recent_location.insert(2,\"Beach\")\n",
    "print(recent_location)\n",
    "playlist.pop(0)\n",
    "print(playlist)\n",
    "fav_food.reverse()\n",
    "print(fav_food)\n",
    "\n",
    "print(playlist.count(\"Yaro ivan\"))"
   ]
  },
  {
   "cell_type": "code",
   "execution_count": 16,
   "id": "1ac287d1-d6ae-4726-b457-b370804d2216",
   "metadata": {},
   "outputs": [
    {
     "name": "stdout",
     "output_type": "stream",
     "text": [
      "['Fried chicken', 'Mutton Briyani']\n",
      "['Home', 'Airport']\n",
      "['Nenje nenje', 'Believer']\n"
     ]
    }
   ],
   "source": [
    "# string slice\n",
    "playlist = [\"Shape of love\",\"Yaro ivan\",\"Nenje nenje\",\"Believer\"]\n",
    "fav_food = [\"Burger\",\"Fried chicken\",\"Mutton Briyani\",\"Egg kari\"]\n",
    "recent_location = [\"Home\",\"Airport\",\"Work\",\"Mall\"]\n",
    "\n",
    "print(fav_food[1:3])\n",
    "print(recent_location[:2])\n",
    "print(playlist[-2:])\n"
   ]
  },
  {
   "cell_type": "code",
   "execution_count": 17,
   "id": "b13e5a91-c4f8-4e73-bd38-8f38e7e50f61",
   "metadata": {},
   "outputs": [
    {
     "name": "stdout",
     "output_type": "stream",
     "text": [
      "All Food: Burger\n",
      "All Food: Fried chicken\n",
      "All Food: Mutton Briyani\n",
      "All Food: Egg kari\n"
     ]
    }
   ],
   "source": [
    "#list iteration\n",
    "fav_food = [\"Burger\",\"Fried chicken\",\"Mutton Briyani\",\"Egg kari\"]\n",
    "for food in fav_food:\n",
    "    print(\"All Food:\",food)"
   ]
  },
  {
   "cell_type": "code",
   "execution_count": 18,
   "id": "358a5818-7bee-402a-a0cb-e4f89b9cd246",
   "metadata": {},
   "outputs": [
    {
     "name": "stdout",
     "output_type": "stream",
     "text": [
      "Homedriven by auto driver\n",
      "Airportdriven by auto driver\n",
      "Workdriven by auto driver\n",
      "Malldriven by auto driver\n"
     ]
    }
   ],
   "source": [
    "#concatination\n",
    "recent_location = [\"Home\",\"Airport\",\"Work\",\"Mall\"]\n",
    "for auto in recent_location:\n",
    "    print(auto+ \"driven by auto driver\")"
   ]
  },
  {
   "cell_type": "code",
   "execution_count": 19,
   "id": "c379c6d9-7f59-433d-af17-1c8020783485",
   "metadata": {},
   "outputs": [
    {
     "name": "stdout",
     "output_type": "stream",
     "text": [
      "Homework\n",
      "Airportby car\n",
      "Workoffice\n",
      "MallGames\n"
     ]
    }
   ],
   "source": [
    "recent_location = [(\"Home\", \"work\"),(\"Airport\", \"by car\"),(\"Work\", \"office\"),(\"Mall\", \"Games\")]\n",
    "for i,j in recent_location:\n",
    "    combine = i+j\n",
    "    print(combine)"
   ]
  },
  {
   "cell_type": "code",
   "execution_count": 2,
   "id": "df0e2a39-d77f-4c89-9387-67a5e0684ce1",
   "metadata": {},
   "outputs": [
    {
     "name": "stdout",
     "output_type": "stream",
     "text": [
      "No\n"
     ]
    }
   ],
   "source": [
    "#checking list\n",
    "fav_food = [\"Burger\",\"Fried chicken\",\"Mutton Briyani\",\"Egg kari\"]\n",
    "if fav_food==\"Burger\":\n",
    "    print(\"Yes\")\n",
    "else:\n",
    "    print(\"No\")#bcoz it checks  of all elements in list\n",
    "    "
   ]
  },
  {
   "cell_type": "code",
   "execution_count": null,
   "id": "2f996164-f411-4939-9d5f-b3ce607ffbd6",
   "metadata": {},
   "outputs": [],
   "source": []
  }
 ],
 "metadata": {
  "kernelspec": {
   "display_name": "Python [conda env:base] *",
   "language": "python",
   "name": "conda-base-py"
  },
  "language_info": {
   "codemirror_mode": {
    "name": "ipython",
    "version": 3
   },
   "file_extension": ".py",
   "mimetype": "text/x-python",
   "name": "python",
   "nbconvert_exporter": "python",
   "pygments_lexer": "ipython3",
   "version": "3.13.5"
  },
  "widgets": {
   "application/vnd.jupyter.widget-state+json": {
    "state": {},
    "version_major": 2,
    "version_minor": 0
   }
  }
 },
 "nbformat": 4,
 "nbformat_minor": 5
}
