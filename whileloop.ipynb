{
 "cells": [
  {
   "cell_type": "code",
   "execution_count": 1,
   "id": "6bfa6a1e-89af-45f2-9001-f2f5ddf7c181",
   "metadata": {},
   "outputs": [
    {
     "name": "stdout",
     "output_type": "stream",
     "text": [
      "0\n"
     ]
    }
   ],
   "source": [
    "i = 0\n",
    "while(i==0):\n",
    "    print(i)\n",
    "    i=1"
   ]
  },
  {
   "cell_type": "code",
   "execution_count": 2,
   "id": "09d6c82c-fd84-42e8-a122-02001da7e393",
   "metadata": {},
   "outputs": [
    {
     "name": "stdout",
     "output_type": "stream",
     "text": [
      "1\n",
      "2\n",
      "3\n",
      "4\n"
     ]
    }
   ],
   "source": [
    "i=1\n",
    "while(i<5):\n",
    "    print(i)\n",
    "    i=i+1"
   ]
  },
  {
   "cell_type": "code",
   "execution_count": 3,
   "id": "0e25e6c9-510f-4b80-bb8d-7e610fa22f73",
   "metadata": {},
   "outputs": [
    {
     "name": "stdout",
     "output_type": "stream",
     "text": [
      "10\n",
      "9\n",
      "8\n",
      "7\n",
      "6\n",
      "5\n",
      "4\n",
      "3\n",
      "2\n",
      "1\n"
     ]
    }
   ],
   "source": [
    "i = 10\n",
    "while(i>0):\n",
    "    print(i)\n",
    "    i=i-1"
   ]
  },
  {
   "cell_type": "code",
   "execution_count": 4,
   "id": "00a6bc0d-08ca-48a0-b58b-e3e154c477ea",
   "metadata": {},
   "outputs": [
    {
     "name": "stdout",
     "output_type": "stream",
     "text": [
      "10\n",
      "20\n",
      "30\n",
      "40\n",
      "50\n",
      "60\n",
      "70\n",
      "80\n",
      "90\n",
      "100\n",
      "110\n",
      "120\n",
      "130\n",
      "140\n",
      "150\n",
      "160\n",
      "170\n",
      "180\n",
      "190\n",
      "200\n"
     ]
    }
   ],
   "source": [
    "i = 10\n",
    "while(i<=200):\n",
    "    print(i)\n",
    "    i+=10\n"
   ]
  },
  {
   "cell_type": "code",
   "execution_count": 5,
   "id": "51a25dad-5cd7-4edd-9889-86a89b12c336",
   "metadata": {},
   "outputs": [
    {
     "name": "stdout",
     "output_type": "stream",
     "text": [
      "120\n"
     ]
    }
   ],
   "source": [
    "i = 5\n",
    "fact = 1\n",
    "while(i>0):\n",
    "    fact = fact*i\n",
    "    i-=1\n",
    "print(fact)\n",
    "    "
   ]
  },
  {
   "cell_type": "code",
   "execution_count": 6,
   "id": "09b08a95-26f0-4c70-903a-701899417b36",
   "metadata": {},
   "outputs": [
    {
     "name": "stdin",
     "output_type": "stream",
     "text": [
      "Enter the pin 1234\n"
     ]
    },
    {
     "name": "stdout",
     "output_type": "stream",
     "text": [
      "Access granted\n"
     ]
    }
   ],
   "source": [
    "correct_pin = '1234'\n",
    "enter_pin = ''\n",
    "while enter_pin!=correct_pin:\n",
    "    enter_pin=input(\"Enter the pin\")\n",
    "\n",
    "print(\"Access granted\")\n",
    "    "
   ]
  },
  {
   "cell_type": "code",
   "execution_count": 7,
   "id": "c481225a-01e9-4c4f-bbb3-75b29576ba32",
   "metadata": {},
   "outputs": [
    {
     "name": "stdout",
     "output_type": "stream",
     "text": [
      "Countdown: 5\n",
      "Countdown: 4\n",
      "Countdown: 3\n",
      "Countdown: 2\n",
      "Countdown: 1\n",
      "Time's up!⏰\n"
     ]
    }
   ],
   "source": [
    "count = 5\n",
    "while count >0:\n",
    "    print(f\"Countdown: {count}\")\n",
    "    count -=1\n",
    "print(\"Time's up!⏰\")"
   ]
  },
  {
   "cell_type": "code",
   "execution_count": 8,
   "id": "91ada344-5674-44b3-b1c1-d64923c66aae",
   "metadata": {},
   "outputs": [
    {
     "name": "stdin",
     "output_type": "stream",
     "text": [
      "Add item (type 'done' to finish): Serum\n",
      "Add item (type 'done' to finish): Moisturizor\n",
      "Add item (type 'done' to finish): Sunscreen\n",
      "Add item (type 'done' to finish): rosepowder\n",
      "Add item (type 'done' to finish): done\n"
     ]
    },
    {
     "name": "stdout",
     "output_type": "stream",
     "text": [
      "Items in cart: ['Serum', 'Moisturizor', 'Sunscreen', 'rosepowder']\n"
     ]
    }
   ],
   "source": [
    "items = []\n",
    "while True:\n",
    "    item = input(\"Add item (type 'done' to finish):\")\n",
    "    if item.lower() ==\"done\":\n",
    "        break\n",
    "    items.append(item)\n",
    "\n",
    "print(\"Items in cart:\",items)"
   ]
  },
  {
   "cell_type": "code",
   "execution_count": null,
   "id": "ed3d840a-4231-4794-9d42-e728dc751c3d",
   "metadata": {},
   "outputs": [],
   "source": []
  }
 ],
 "metadata": {
  "kernelspec": {
   "display_name": "Python [conda env:base] *",
   "language": "python",
   "name": "conda-base-py"
  },
  "language_info": {
   "codemirror_mode": {
    "name": "ipython",
    "version": 3
   },
   "file_extension": ".py",
   "mimetype": "text/x-python",
   "name": "python",
   "nbconvert_exporter": "python",
   "pygments_lexer": "ipython3",
   "version": "3.13.5"
  },
  "widgets": {
   "application/vnd.jupyter.widget-state+json": {
    "state": {},
    "version_major": 2,
    "version_minor": 0
   }
  }
 },
 "nbformat": 4,
 "nbformat_minor": 5
}
