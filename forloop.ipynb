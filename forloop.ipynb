{
 "cells": [
  {
   "cell_type": "code",
   "execution_count": 8,
   "id": "6a14de64-0ec1-423a-8063-51290a38e903",
   "metadata": {},
   "outputs": [
    {
     "name": "stdout",
     "output_type": "stream",
     "text": [
      "a ,p ,p ,l ,e ,"
     ]
    }
   ],
   "source": [
    "for i in \"apple\":\n",
    "    print(i,end=\" ,\")"
   ]
  },
  {
   "cell_type": "code",
   "execution_count": 9,
   "id": "fe7d9905-f125-4cda-b9e5-ac14e196baca",
   "metadata": {},
   "outputs": [
    {
     "name": "stdout",
     "output_type": "stream",
     "text": [
      "D 🩵💛 h 🩵💛 e 🩵💛 e 🩵💛 k 🩵💛 s 🩵💛 h 🩵💛 a 🩵💛 "
     ]
    }
   ],
   "source": [
    "for s in \"Dheeksha\":\n",
    "    print(s,end=\" 🩵💛 \")"
   ]
  },
  {
   "cell_type": "code",
   "execution_count": 2,
   "id": "cb9ccfad-f77c-401a-b967-a80e1b02c910",
   "metadata": {},
   "outputs": [
    {
     "name": "stdout",
     "output_type": "stream",
     "text": [
      "0\n",
      "1\n",
      "2\n",
      "3\n",
      "4\n",
      "5\n"
     ]
    }
   ],
   "source": [
    "for i in range(6):\n",
    "    print(i)"
   ]
  },
  {
   "cell_type": "code",
   "execution_count": 3,
   "id": "ab430a88-6a55-4605-9cc5-d5d74738a204",
   "metadata": {},
   "outputs": [
    {
     "name": "stdout",
     "output_type": "stream",
     "text": [
      "1\n",
      "2\n",
      "3\n",
      "4\n",
      "5\n",
      "6\n",
      "7\n",
      "8\n",
      "9\n"
     ]
    }
   ],
   "source": [
    "for i in range(1,10):\n",
    "    print(i)"
   ]
  },
  {
   "cell_type": "code",
   "execution_count": 4,
   "id": "fab05a37-8e06-481c-b607-b8c12a86c3d1",
   "metadata": {},
   "outputs": [
    {
     "name": "stdout",
     "output_type": "stream",
     "text": [
      "2\n",
      "5\n",
      "8\n"
     ]
    }
   ],
   "source": [
    "for i in range(2,11,3):\n",
    "    print(i)"
   ]
  },
  {
   "cell_type": "code",
   "execution_count": 11,
   "id": "f3f23baf-c9e1-4ef5-af4e-dc0b2d9f29fb",
   "metadata": {},
   "outputs": [
    {
     "name": "stdout",
     "output_type": "stream",
     "text": [
      "15x 1 = 15\n",
      "15x 2 = 30\n",
      "15x 3 = 45\n",
      "15x 4 = 60\n",
      "15x 5 = 75\n",
      "15x 6 = 90\n",
      "15x 7 = 105\n",
      "15x 8 = 120\n",
      "15x 9 = 135\n",
      "15x 10 = 150\n"
     ]
    }
   ],
   "source": [
    "for i in range(1,11):\n",
    "    print(\"15x\", i , \"=\",i*15)"
   ]
  },
  {
   "cell_type": "code",
   "execution_count": 6,
   "id": "3b4a8a5a-1df0-48fb-b817-64bb03ca81a3",
   "metadata": {},
   "outputs": [
    {
     "name": "stdin",
     "output_type": "stream",
     "text": [
      "Enter the number 3\n",
      "Enter the number 15\n"
     ]
    },
    {
     "name": "stdout",
     "output_type": "stream",
     "text": [
      "4\n",
      "5\n",
      "6\n",
      "7\n",
      "8\n",
      "9\n",
      "10\n",
      "11\n",
      "12\n",
      "13\n",
      "14\n"
     ]
    }
   ],
   "source": [
    "a = int(input(\"Enter the number\"))\n",
    "b = int(input(\"Enter the number\"))\n",
    "for i in range(a+1,b):\n",
    "    print(i)"
   ]
  },
  {
   "cell_type": "code",
   "execution_count": 7,
   "id": "f5f56594-d47f-4f09-a874-d43e41b56317",
   "metadata": {},
   "outputs": [
    {
     "name": "stdout",
     "output_type": "stream",
     "text": [
      "2\n",
      "4\n",
      "6\n",
      "8\n",
      "10\n"
     ]
    }
   ],
   "source": [
    "# 1 to 10 even number\n",
    "for i in range(1,11):\n",
    "    if(i%2==0):\n",
    "        print(i)"
   ]
  },
  {
   "cell_type": "code",
   "execution_count": 13,
   "id": "b71e21bd-d14c-45a9-b941-9463bd86e4a2",
   "metadata": {},
   "outputs": [
    {
     "name": "stdout",
     "output_type": "stream",
     "text": [
      "5\n"
     ]
    }
   ],
   "source": [
    " #count of even number\n",
    "count = 0\n",
    "for i in range(1,11):\n",
    "    if(i%2==0):\n",
    "        count = count+1\n",
    "print(count)"
   ]
  },
  {
   "cell_type": "code",
   "execution_count": 9,
   "id": "f7c16676-0b6d-4ee3-9f65-2999bc5b2f47",
   "metadata": {},
   "outputs": [
    {
     "name": "stdout",
     "output_type": "stream",
     "text": [
      "The even count is 26\n",
      "The odd count is 25\n"
     ]
    }
   ],
   "source": [
    "num_odd = 0\n",
    "num_even = 0\n",
    "for i in range(50,101):\n",
    "    if(i%2==0):\n",
    "        num_even = num_even+1\n",
    "    else:\n",
    "        num_odd = num_odd+1\n",
    "print(\"The even count is\", num_even)\n",
    "print(\"The odd count is\", num_odd)\n"
   ]
  },
  {
   "cell_type": "code",
   "execution_count": 15,
   "id": "edb4949a-eeee-4f45-aa88-92f6525a9a3e",
   "metadata": {},
   "outputs": [
    {
     "name": "stdout",
     "output_type": "stream",
     "text": [
      "The numbers are divisible by 3 and 5 is 6\n"
     ]
    }
   ],
   "source": [
    "count = 0\n",
    "for i in range(1,100):\n",
    "    if(i%3==0 and i%5==0):\n",
    "        count = count+1\n",
    "print(\"The numbers are divisible by 3 and 5 is\", count)"
   ]
  },
  {
   "cell_type": "code",
   "execution_count": 12,
   "id": "7e97371a-e8f4-4d95-8c13-406ee6046968",
   "metadata": {},
   "outputs": [
    {
     "name": "stdout",
     "output_type": "stream",
     "text": [
      "15\n"
     ]
    }
   ],
   "source": [
    "sum =0\n",
    "for i in range(1,6):\n",
    "    sum = sum+i\n",
    "print(sum)"
   ]
  },
  {
   "cell_type": "code",
   "execution_count": 13,
   "id": "f5d8c0a7-ee4b-4d6a-b93b-8f5f4b6a1ad4",
   "metadata": {},
   "outputs": [
    {
     "name": "stdout",
     "output_type": "stream",
     "text": [
      "Enter the number\n"
     ]
    },
    {
     "name": "stdin",
     "output_type": "stream",
     "text": [
      "Enter the value1 4\n",
      "Enter the value2 6\n",
      "Enter the value3 9\n",
      "Enter the value4 8\n",
      "Enter the value5 5\n"
     ]
    },
    {
     "name": "stdout",
     "output_type": "stream",
     "text": [
      "[4, 6, 9, 8, 5]\n",
      "32\n"
     ]
    }
   ],
   "source": [
    "a = []\n",
    "print(\"Enter the number\")\n",
    "for i in range(5): \n",
    "    num = int(input(\"Enter the value\"+str(i+1)))#casting bcoz str can't combine with int\n",
    "    a.append(num)\n",
    "print(a)\n",
    "\n",
    "sum = 0\n",
    "for i in a:\n",
    "    sum = sum+i\n",
    "print(sum)"
   ]
  },
  {
   "cell_type": "code",
   "execution_count": 14,
   "id": "6931ef39-6945-4459-9d42-e8fe9bb1ee7e",
   "metadata": {},
   "outputs": [
    {
     "name": "stdin",
     "output_type": "stream",
     "text": [
      "Enter the number 7\n"
     ]
    },
    {
     "name": "stdout",
     "output_type": "stream",
     "text": [
      "1 2 3 4 5 6 7 The sum natural numbers are  28\n"
     ]
    }
   ],
   "source": [
    "n = int(input(\"Enter the number\"))\n",
    "num_total = 0\n",
    "#print(\"The first\" ,n, \"natural numbers are:\")\n",
    "for i in range(1,n+1):\n",
    "    print(i,end=' ')\n",
    "    num_total += i\n",
    "print(\"The sum natural numbers are \",num_total)   "
   ]
  },
  {
   "cell_type": "code",
   "execution_count": 15,
   "id": "173289e1-9b87-4b05-aa52-51e314ba97dc",
   "metadata": {},
   "outputs": [
    {
     "name": "stdin",
     "output_type": "stream",
     "text": [
      "Enter the terms 5\n"
     ]
    },
    {
     "name": "stdout",
     "output_type": "stream",
     "text": [
      "Number is : 1 and cube of the 1 is: 1\n",
      "Number is : 2 and cube of the 2 is: 8\n",
      "Number is : 3 and cube of the 3 is: 27\n",
      "Number is : 4 and cube of the 4 is: 64\n",
      "Number is : 5 and cube of the 5 is: 125\n"
     ]
    }
   ],
   "source": [
    "n = int(input(\"Enter the terms\"))\n",
    "#num_total = 0\n",
    "for i in range(1,n+1):\n",
    "    print(\"Number is :\",i, \"and cube of the\",i, \"is:\",i*i*i)\n",
    "    \n",
    "    "
   ]
  },
  {
   "cell_type": "code",
   "execution_count": 16,
   "id": "cd4eadba-edc4-4c84-9d34-83aad1a61611",
   "metadata": {},
   "outputs": [
    {
     "name": "stdout",
     "output_type": "stream",
     "text": [
      "5\n",
      "4\n",
      "3\n",
      "2\n",
      "1\n"
     ]
    }
   ],
   "source": [
    "n = 5\n",
    "for i in range(n, 0, -1):\n",
    "    print(i)"
   ]
  },
  {
   "cell_type": "code",
   "execution_count": 17,
   "id": "ffd7458a-8d16-423b-8028-01b24c3c2187",
   "metadata": {},
   "outputs": [
    {
     "name": "stdout",
     "output_type": "stream",
     "text": [
      "*****\n",
      "****\n",
      "***\n",
      "**\n",
      "*\n"
     ]
    }
   ],
   "source": [
    "n = 5\n",
    "for i in range(n, 0,-1):\n",
    "    print(\"*\" * i)"
   ]
  },
  {
   "cell_type": "code",
   "execution_count": 18,
   "id": "c21c73e4-12db-4e9f-8942-7d5db6aed880",
   "metadata": {},
   "outputs": [
    {
     "name": "stdout",
     "output_type": "stream",
     "text": [
      "*\n",
      "**\n",
      "***\n",
      "****\n",
      "*****\n"
     ]
    }
   ],
   "source": [
    "n = 5\n",
    "for i in range(1,n+1):\n",
    "    print(\"*\" * i)"
   ]
  },
  {
   "cell_type": "code",
   "execution_count": null,
   "id": "f1629de4-f23f-4b47-974d-e6d53d148198",
   "metadata": {},
   "outputs": [],
   "source": []
  }
 ],
 "metadata": {
  "kernelspec": {
   "display_name": "Python [conda env:base] *",
   "language": "python",
   "name": "conda-base-py"
  },
  "language_info": {
   "codemirror_mode": {
    "name": "ipython",
    "version": 3
   },
   "file_extension": ".py",
   "mimetype": "text/x-python",
   "name": "python",
   "nbconvert_exporter": "python",
   "pygments_lexer": "ipython3",
   "version": "3.13.5"
  },
  "widgets": {
   "application/vnd.jupyter.widget-state+json": {
    "state": {},
    "version_major": 2,
    "version_minor": 0
   }
  }
 },
 "nbformat": 4,
 "nbformat_minor": 5
}
