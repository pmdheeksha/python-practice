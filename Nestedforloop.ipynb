{
 "cells": [
  {
   "cell_type": "code",
   "execution_count": 1,
   "id": "bdbb37e1-7e5b-470f-a01b-2d8b27e732d6",
   "metadata": {},
   "outputs": [
    {
     "name": "stdout",
     "output_type": "stream",
     "text": [
      "1 Apple\n",
      "2 Apple\n",
      "1 Apple\n",
      "2 Apple\n",
      "1 Apple\n",
      "2 Apple\n",
      "1 Apple\n",
      "2 Apple\n",
      "1 Apple\n",
      "2 Apple\n"
     ]
    }
   ],
   "source": [
    "for i in range(1,6):\n",
    "    for j in range(1,3):\n",
    "        print(j,\"Apple\")"
   ]
  },
  {
   "cell_type": "code",
   "execution_count": 2,
   "id": "c12f064b-b468-4273-8592-6c95aa84388a",
   "metadata": {},
   "outputs": [
    {
     "name": "stdout",
     "output_type": "stream",
     "text": [
      "Week: 1\n",
      "Day: 1\n",
      "Day: 2\n",
      "Day: 3\n",
      "Week: 2\n",
      "Day: 1\n",
      "Day: 2\n",
      "Day: 3\n"
     ]
    }
   ],
   "source": [
    "for i in range(1,3):\n",
    "    print(\"Week:\",i)\n",
    "    for j in range(1,4):\n",
    "        print(\"Day:\",j)"
   ]
  },
  {
   "cell_type": "code",
   "execution_count": 3,
   "id": "7975cf4c-ecde-44a7-af0c-0fa4ef6c0666",
   "metadata": {},
   "outputs": [
    {
     "name": "stdout",
     "output_type": "stream",
     "text": [
      "*\n",
      "* *\n",
      "* * *\n",
      "* * * *\n",
      "* * * * "
     ]
    }
   ],
   "source": [
    "for i in range(1,5):\n",
    "    print(\"*\")\n",
    "    for j in range(1,i+1):\n",
    "        print(\"*\",end=\" \")"
   ]
  },
  {
   "cell_type": "code",
   "execution_count": null,
   "id": "82d5bd2f-3843-4abe-9299-1c02d14b27ac",
   "metadata": {},
   "outputs": [],
   "source": []
  }
 ],
 "metadata": {
  "kernelspec": {
   "display_name": "Python [conda env:base] *",
   "language": "python",
   "name": "conda-base-py"
  },
  "language_info": {
   "codemirror_mode": {
    "name": "ipython",
    "version": 3
   },
   "file_extension": ".py",
   "mimetype": "text/x-python",
   "name": "python",
   "nbconvert_exporter": "python",
   "pygments_lexer": "ipython3",
   "version": "3.13.5"
  }
 },
 "nbformat": 4,
 "nbformat_minor": 5
}
