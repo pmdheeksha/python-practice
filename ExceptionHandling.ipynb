{
 "cells": [
  {
   "cell_type": "markdown",
   "id": "90be494e-0dbd-466b-908d-0284d98e40fd",
   "metadata": {},
   "source": [
    "#compile Time Error\n",
    "print(\"Hai\")\n",
    "print(\"Bye\")\n",
    "printt(\"HAI\")#nameerror is compile time error"
   ]
  },
  {
   "cell_type": "code",
   "execution_count": 2,
   "id": "3b8c04c4-965d-46ab-8c09-fa5061507e43",
   "metadata": {},
   "outputs": [
    {
     "name": "stdout",
     "output_type": "stream",
     "text": [
      "20\n"
     ]
    }
   ],
   "source": [
    "#logical error\n",
    "\n",
    "a=10\n",
    "b=20\n",
    "print(a+a)#give a+b"
   ]
  },
  {
   "cell_type": "code",
   "execution_count": 3,
   "id": "718494ba-d04d-4171-ab62-3ffaae5ba85b",
   "metadata": {},
   "outputs": [
    {
     "name": "stdin",
     "output_type": "stream",
     "text": [
      " 34\n",
      " 67\n"
     ]
    },
    {
     "name": "stdout",
     "output_type": "stream",
     "text": [
      "101\n"
     ]
    }
   ],
   "source": [
    "#runtime error\n",
    "a = int(input())\n",
    "b = int(input())\n",
    "print(a+b)"
   ]
  },
  {
   "cell_type": "code",
   "execution_count": 4,
   "id": "2cedc76b-fb1c-49ab-8034-f911f7b7fe85",
   "metadata": {},
   "outputs": [
    {
     "name": "stdin",
     "output_type": "stream",
     "text": [
      " 67\n",
      " hai\n"
     ]
    },
    {
     "ename": "ValueError",
     "evalue": "invalid literal for int() with base 10: 'hai'",
     "output_type": "error",
     "traceback": [
      "\u001b[31m---------------------------------------------------------------------------\u001b[39m",
      "\u001b[31mValueError\u001b[39m                                Traceback (most recent call last)",
      "\u001b[36mCell\u001b[39m\u001b[36m \u001b[39m\u001b[32mIn[4]\u001b[39m\u001b[32m, line 3\u001b[39m\n\u001b[32m      1\u001b[39m \u001b[38;5;66;03m#runtime error\u001b[39;00m\n\u001b[32m      2\u001b[39m a = \u001b[38;5;28mint\u001b[39m(\u001b[38;5;28minput\u001b[39m())\n\u001b[32m----> \u001b[39m\u001b[32m3\u001b[39m b = \u001b[38;5;28;43mint\u001b[39;49m\u001b[43m(\u001b[49m\u001b[38;5;28;43minput\u001b[39;49m\u001b[43m(\u001b[49m\u001b[43m)\u001b[49m\u001b[43m)\u001b[49m\n\u001b[32m      4\u001b[39m \u001b[38;5;28mprint\u001b[39m(a+b)\n",
      "\u001b[31mValueError\u001b[39m: invalid literal for int() with base 10: 'hai'"
     ]
    }
   ],
   "source": [
    "#runtime error\n",
    "a = int(input())\n",
    "b = int(input())\n",
    "print(a+b)"
   ]
  },
  {
   "cell_type": "code",
   "execution_count": 5,
   "id": "cb8a1cf5-0161-4dba-9d29-a64a039927b5",
   "metadata": {},
   "outputs": [
    {
     "name": "stdin",
     "output_type": "stream",
     "text": [
      " 12\n",
      " 6\n"
     ]
    },
    {
     "name": "stdout",
     "output_type": "stream",
     "text": [
      "18\n"
     ]
    }
   ],
   "source": [
    "try:\n",
    "    a = int(input())\n",
    "    b = int(input())\n",
    "    print(a+b)\n",
    "except Exception:\n",
    "    print(\"Something\")"
   ]
  },
  {
   "cell_type": "code",
   "execution_count": 6,
   "id": "96c61063-deaf-4f6b-8c0a-f7dbb451704a",
   "metadata": {},
   "outputs": [
    {
     "name": "stdin",
     "output_type": "stream",
     "text": [
      " 34\n",
      " fhg\n"
     ]
    },
    {
     "name": "stdout",
     "output_type": "stream",
     "text": [
      "Something invalid literal for int() with base 10: 'fhg'\n"
     ]
    }
   ],
   "source": [
    "try:\n",
    "    a = int(input())\n",
    "    b = int(input())\n",
    "    print(a+b)\n",
    "except Exception as e:\n",
    "    print(\"Something\",e)"
   ]
  },
  {
   "cell_type": "code",
   "execution_count": 7,
   "id": "57acd775-5f75-4d74-9e08-71605b2e43b4",
   "metadata": {},
   "outputs": [
    {
     "name": "stdin",
     "output_type": "stream",
     "text": [
      " we\n",
      " went\n"
     ]
    },
    {
     "name": "stdout",
     "output_type": "stream",
     "text": [
      "Something unsupported operand type(s) for /: 'str' and 'str'\n"
     ]
    }
   ],
   "source": [
    "try:\n",
    "    a = input()\n",
    "    b = input()\n",
    "    print(a/b)\n",
    "except Exception as e:\n",
    "    print(\"Something\",e)"
   ]
  },
  {
   "cell_type": "markdown",
   "id": "03bcbee3-1147-4baf-ab65-88ab5ba08c04",
   "metadata": {},
   "source": [
    "try_throw_except_finally\n",
    "try-code should write\n",
    "throw -work internally\n",
    "except-if there is error throw should give to except(it says what the exception accur there)\n",
    "finally - it always excute"
   ]
  },
  {
   "cell_type": "markdown",
   "id": "f402a843-683e-4b8c-a35f-ac435728388d",
   "metadata": {},
   "source": [
    "ZeroDivisionError\n",
    "valueError\n",
    "TypeError\n",
    "IndexError\n",
    "KeyError\n",
    "AttributeError\n",
    "FileNotFoundError\n",
    "ImportError\n",
    "NameError\n",
    "IndentationError\n",
    "SyntaxError\n",
    "RuntimeError\n",
    "StopIteration\n",
    "MemoryError\n",
    "RecursionError\n",
    "\n",
    "if we don't any error means give(exception)"
   ]
  },
  {
   "cell_type": "code",
   "execution_count": 2,
   "id": "84619c6c-3e9c-4f0b-a300-29b6ed1b1e70",
   "metadata": {},
   "outputs": [
    {
     "name": "stdin",
     "output_type": "stream",
     "text": [
      "How many items? 0\n"
     ]
    },
    {
     "name": "stdout",
     "output_type": "stream",
     "text": [
      "❌ You cannot order 0 items\n",
      "✅ Next code Block\n"
     ]
    }
   ],
   "source": [
    "try:\n",
    "    number_of_items = int(input(\"How many items?\"))\n",
    "    total_price = 200*number_of_items\n",
    "    average_price = total_price/number_of_items\n",
    "    print(\"Average price:\",average_price)\n",
    "except Exception:\n",
    "    print(\"❌ You cannot order 0 items\")\n",
    "\n",
    "print(\"✅ Next code Block\")"
   ]
  },
  {
   "cell_type": "code",
   "execution_count": null,
   "id": "ac311d59-9de9-4d4a-b6b1-e35d2035ed7b",
   "metadata": {},
   "outputs": [],
   "source": []
  }
 ],
 "metadata": {
  "kernelspec": {
   "display_name": "Python (your-env-name)",
   "language": "python",
   "name": "your-env-name"
  },
  "language_info": {
   "codemirror_mode": {
    "name": "ipython",
    "version": 3
   },
   "file_extension": ".py",
   "mimetype": "text/x-python",
   "name": "python",
   "nbconvert_exporter": "python",
   "pygments_lexer": "ipython3",
   "version": "3.13.5"
  },
  "widgets": {
   "application/vnd.jupyter.widget-state+json": {
    "state": {},
    "version_major": 2,
    "version_minor": 0
   }
  }
 },
 "nbformat": 4,
 "nbformat_minor": 5
}
