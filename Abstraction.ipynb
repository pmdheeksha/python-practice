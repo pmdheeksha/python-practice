{
 "cells": [
  {
   "cell_type": "code",
   "execution_count": 3,
   "id": "74432cb3-4061-4a89-806c-496748846eb9",
   "metadata": {},
   "outputs": [
    {
     "name": "stdout",
     "output_type": "stream",
     "text": [
      "WebPage Login Done✅\n",
      "webPage loggout Done✅\n"
     ]
    }
   ],
   "source": [
    "from abc import ABC,abstractmethod\n",
    "class FeaturePlan(ABC):\n",
    "    @abstractmethod\n",
    "    def login(self):\n",
    "        pass\n",
    "\n",
    "    @abstractmethod\n",
    "    def logout(self):\n",
    "        pass\n",
    "\n",
    "    def checkout(self):\n",
    "        pass\n",
    "\n",
    "class WebApp(FeaturePlan):\n",
    "    def login(self):\n",
    "        print(\"WebPage Login Done✅\")\n",
    "    def logout(self):\n",
    "        print(\"webPage loggout Done✅\")\n",
    "\n",
    "a = WebApp()\n",
    "a.login()\n",
    "a.logout()\n",
    "        "
   ]
  },
  {
   "cell_type": "code",
   "execution_count": 4,
   "id": "f98ea8e2-f32a-4a95-85f2-ed1ce7436f39",
   "metadata": {},
   "outputs": [
    {
     "ename": "TypeError",
     "evalue": "Can't instantiate abstract class WebApp without an implementation for abstract method 'checkout'",
     "output_type": "error",
     "traceback": [
      "\u001b[31m---------------------------------------------------------------------------\u001b[39m",
      "\u001b[31mTypeError\u001b[39m                                 Traceback (most recent call last)",
      "\u001b[36mCell\u001b[39m\u001b[36m \u001b[39m\u001b[32mIn[4]\u001b[39m\u001b[32m, line 20\u001b[39m\n\u001b[32m     17\u001b[39m     \u001b[38;5;28;01mdef\u001b[39;00m\u001b[38;5;250m \u001b[39m\u001b[34mlogout\u001b[39m(\u001b[38;5;28mself\u001b[39m):\n\u001b[32m     18\u001b[39m         \u001b[38;5;28mprint\u001b[39m(\u001b[33m\"\u001b[39m\u001b[33mwebPage loggout Done✅\u001b[39m\u001b[33m\"\u001b[39m)\n\u001b[32m---> \u001b[39m\u001b[32m20\u001b[39m a = \u001b[43mWebApp\u001b[49m\u001b[43m(\u001b[49m\u001b[43m)\u001b[49m\n\u001b[32m     21\u001b[39m a.login()\n\u001b[32m     22\u001b[39m a.logout()\n",
      "\u001b[31mTypeError\u001b[39m: Can't instantiate abstract class WebApp without an implementation for abstract method 'checkout'"
     ]
    }
   ],
   "source": [
    "from abc import ABC,abstractmethod# abastract if used defintely impliment in child class\n",
    "class FeaturePlan(ABC):\n",
    "    @abstractmethod\n",
    "    def login(self):\n",
    "        pass\n",
    "\n",
    "    @abstractmethod\n",
    "    def logout(self):\n",
    "        pass\n",
    "    @abstractmethod# if abstractmethod is given means defintely child class should want to mention\n",
    "    def checkout(self):\n",
    "        pass\n",
    "\n",
    "class WebApp(FeaturePlan):\n",
    "    def login(self):\n",
    "        print(\"WebPage Login Done✅\")\n",
    "    def logout(self):\n",
    "        print(\"webPage loggout Done✅\")\n",
    "\n",
    "a = WebApp()\n",
    "a.login()\n",
    "a.logout()"
   ]
  },
  {
   "cell_type": "code",
   "execution_count": 5,
   "id": "110907c6-744d-45a7-a262-679060736840",
   "metadata": {},
   "outputs": [
    {
     "name": "stdout",
     "output_type": "stream",
     "text": [
      "verify done✅\n"
     ]
    }
   ],
   "source": [
    "\n",
    "from abc import ABC,abstractmethod\n",
    "class FeaturePlan(ABC):\n",
    "    \n",
    "    def checkout(self):#without abstract can also use\n",
    "        pass\n",
    "\n",
    "class WebApp(FeaturePlan):\n",
    "    def checkout(self):\n",
    "        print(\"verify done✅\")\n",
    "    \n",
    "\n",
    "a = WebApp()\n",
    "a.checkout()\n",
    "\n",
    "        "
   ]
  },
  {
   "cell_type": "code",
   "execution_count": null,
   "id": "7d3212b5-aa06-4cd2-9efd-d833cb9d243e",
   "metadata": {},
   "outputs": [],
   "source": []
  }
 ],
 "metadata": {
  "kernelspec": {
   "display_name": "Python [conda env:base] *",
   "language": "python",
   "name": "conda-base-py"
  },
  "language_info": {
   "codemirror_mode": {
    "name": "ipython",
    "version": 3
   },
   "file_extension": ".py",
   "mimetype": "text/x-python",
   "name": "python",
   "nbconvert_exporter": "python",
   "pygments_lexer": "ipython3",
   "version": "3.13.5"
  },
  "widgets": {
   "application/vnd.jupyter.widget-state+json": {
    "state": {},
    "version_major": 2,
    "version_minor": 0
   }
  }
 },
 "nbformat": 4,
 "nbformat_minor": 5
}
